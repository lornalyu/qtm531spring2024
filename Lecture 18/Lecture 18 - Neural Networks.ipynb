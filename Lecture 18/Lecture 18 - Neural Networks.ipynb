{
 "cells": [
  {
   "attachments": {},
   "cell_type": "markdown",
   "metadata": {},
   "source": [
    "# <span style=\"color:darkblue\"> Lecture 18: Neural Networks and Tensor Flow </span>\n",
    "\n",
    "<font size = \"5\">\n",
    "\n",
    "In this class we will talk about how to set up <br>\n",
    "a neural network classifier using Tensor Flow\n",
    "\n",
    "For an introduction\n",
    "\n",
    "https://www.youtube.com/watch?v=i8NETqtGHms"
   ]
  },
  {
   "cell_type": "markdown",
   "metadata": {},
   "source": [
    "# <span style=\"color:darkblue\"> I. Setup Working Environment </span>\n"
   ]
  },
  {
   "cell_type": "markdown",
   "metadata": {},
   "source": [
    "\n",
    "<font size = \"5\">\n",
    "\n",
    "We will be using a new library called \"Tensor Flow\" that is used <br>\n",
    "to create neural network architectures\n",
    "\n",
    "In Windows (Anaconda Prompt) or Mac (Terminal) type:\n",
    "\n",
    "``` conda install tensorflow ```"
   ]
  },
  {
   "cell_type": "code",
   "execution_count": 59,
   "metadata": {},
   "outputs": [],
   "source": [
    "# Import the package for the University of California Irvine API\n",
    "from ucimlrepo import fetch_ucirepo \n",
    "\n",
    "# Import SK-Learn library for machine learning functions\n",
    "from sklearn.model_selection import train_test_split\n",
    "from sklearn.svm import SVC\n",
    "from sklearn.model_selection import cross_val_score\n",
    "from sklearn.model_selection import GridSearchCV\n",
    "from sklearn.metrics import confusion_matrix, ConfusionMatrixDisplay\n",
    "from sklearn.model_selection import cross_validate\n",
    "from sklearn import preprocessing\n",
    "from sklearn.metrics import get_scorer_names\n",
    "\n",
    "\n",
    "# Import standard data analysis packages\n",
    "import numpy as np\n",
    "import pandas as pd\n",
    "import matplotlib.pyplot as plt\n"
   ]
  },
  {
   "cell_type": "markdown",
   "metadata": {},
   "source": [
    "<font size = \"5\">\n",
    "\n",
    "Import tensor flow packages"
   ]
  },
  {
   "cell_type": "code",
   "execution_count": 60,
   "metadata": {},
   "outputs": [],
   "source": [
    "\n",
    "\n",
    "# Import standard data analysis packages\n",
    "import tensorflow as tf\n",
    "from tensorflow import keras\n",
    "from keras.layers import Dense"
   ]
  },
  {
   "cell_type": "markdown",
   "metadata": {},
   "source": [
    "# <span style=\"color:darkblue\"> II. Data </span>\n",
    "\n",
    "<font size = \"5\">\n",
    "\n",
    "Online Shoppers Purchasing Intention Dataset (OSHPID)\n",
    "\n",
    "- This dataset contains information about user sessions\n",
    "- It contains features data about user behavior \n",
    "while <br> navigating website\n",
    "- The goal is to predict whether the customer will purchase or not\n",
    "\n",
    "https://archive.ics.uci.edu/dataset/468/online+shoppers+purchasing+intention+dataset\n"
   ]
  },
  {
   "cell_type": "code",
   "execution_count": 62,
   "metadata": {},
   "outputs": [],
   "source": [
    "# Fetch online data from the UC Irvine Machine Learning Repository API\n",
    "online_shopping= fetch_ucirepo(id=468) \n",
    "\n",
    "# Extract\n",
    "X = online_shopping.data.features\n",
    "# Drop columns that contain non-numeric values\n",
    "X = X.drop(columns = [\"Month\",\"VisitorType\"])\n",
    "\n",
    "# Extract label data\n",
    "y = online_shopping.data.targets[\"Revenue\"]\n"
   ]
  },
  {
   "cell_type": "code",
   "execution_count": 63,
   "metadata": {},
   "outputs": [],
   "source": [
    "# Convert to float types (avoids issues down the line)\n",
    "X = np.asarray(X).astype(np.float32)\n",
    "y = np.asarray(y).astype(np.float32)"
   ]
  },
  {
   "cell_type": "markdown",
   "metadata": {},
   "source": [
    "<font size = \"5\">\n",
    "\n",
    "Pre-process data prior to running model"
   ]
  },
  {
   "cell_type": "code",
   "execution_count": 92,
   "metadata": {},
   "outputs": [],
   "source": [
    "# Split into training and test\n",
    "X_train, X_test, y_train, y_test = train_test_split(X,y , \n",
    "                                   random_state=104,  \n",
    "                                   test_size=0.25,  \n",
    "                                   shuffle=True) "
   ]
  },
  {
   "cell_type": "code",
   "execution_count": 65,
   "metadata": {},
   "outputs": [],
   "source": [
    "# The first step is to produce a \"scaler\" function\n",
    "scaler_train = preprocessing.StandardScaler().fit(X_train)\n",
    "scaler_test  = preprocessing.StandardScaler().fit(X_test)\n",
    "\n",
    "# Apply scaler function\n",
    "X_train_scale = scaler_train.transform(X_train)\n",
    "X_test_scale  = scaler_test.fit(X_test).transform(X_test)"
   ]
  },
  {
   "cell_type": "markdown",
   "metadata": {},
   "source": [
    "# <span style=\"color:darkblue\"> III. Training a neural network </span>\n"
   ]
  },
  {
   "cell_type": "markdown",
   "metadata": {},
   "source": [
    "<font size = \"5\">\n",
    "\n",
    "Define number of features in $X$"
   ]
  },
  {
   "cell_type": "code",
   "execution_count": 66,
   "metadata": {},
   "outputs": [],
   "source": [
    "k_features = X.shape[1]"
   ]
  },
  {
   "cell_type": "markdown",
   "metadata": {},
   "source": [
    "<font size = \"5\">\n",
    "\n",
    "To define a neural network we start with a configuration setup\n",
    "\n",
    "- We start with an empty canvas with \"Keras\"\n",
    "- Then we successively add how many layers we want <br>\n",
    "and what type\n",
    "\n",
    "For more information about Keras layers:\n",
    "\n",
    "https://www.educative.io/answers/what-are-keras-layers"
   ]
  },
  {
   "cell_type": "code",
   "execution_count": 82,
   "metadata": {},
   "outputs": [],
   "source": [
    "# \"basic_model\" for now only starts with a configuration\n",
    "\n",
    "basic_model = keras.models.Sequential()"
   ]
  },
  {
   "cell_type": "code",
   "execution_count": 90,
   "metadata": {},
   "outputs": [],
   "source": [
    "# We add how many layers we want, starting with the input layer and \n",
    "# ending with the output layer\n",
    "\n",
    "# This has a dense layer for inputs with \"k\" features\n",
    "basic_model.add(Dense(units=16, activation='relu', input_shape=(k_features,)))\n",
    "\n",
    "# This is the output layer. The sigmoid defines predictions in (0,1)\n",
    "# We choose 1 unit since there is a scalar output (binary classification)\n",
    "\n",
    "basic_model.add(Dense(units = 1, activation='sigmoid'))\n",
    "\n",
    "# Note: If you are using the neural network to predict continuous outcomes,\n",
    "# you may want a different activation function in the output layer"
   ]
  },
  {
   "cell_type": "markdown",
   "metadata": {},
   "source": [
    "<font size = \"5\">\n",
    "\n",
    "Define an optimizer"
   ]
  },
  {
   "cell_type": "code",
   "execution_count": 88,
   "metadata": {},
   "outputs": [],
   "source": [
    "# Adam is a type of optimization algorithm\n",
    "\n",
    "adam = keras.optimizers.Adam(learning_rate=0.001)"
   ]
  },
  {
   "cell_type": "code",
   "execution_count": 89,
   "metadata": {},
   "outputs": [],
   "source": [
    "# Define the loss function to optimize\n",
    "\n",
    "basic_model.compile(loss='binary_crossentropy', optimizer=adam, metrics=[\"accuracy\"])"
   ]
  },
  {
   "cell_type": "markdown",
   "metadata": {},
   "source": [
    "<font size = \"5\">\n",
    "\n",
    "Estimate model\n",
    "\n",
    "- The optimization algorithm proceeds sequentially, through epocs"
   ]
  },
  {
   "cell_type": "code",
   "execution_count": 70,
   "metadata": {},
   "outputs": [
    {
     "name": "stdout",
     "output_type": "stream",
     "text": [
      "Epoch 1/100\n"
     ]
    },
    {
     "name": "stdout",
     "output_type": "stream",
     "text": [
      "289/289 [==============================] - 0s 428us/step - loss: 12.0415 - accuracy: 0.7068\n",
      "Epoch 2/100\n",
      "289/289 [==============================] - 0s 400us/step - loss: 1.2402 - accuracy: 0.8464\n",
      "Epoch 3/100\n",
      "289/289 [==============================] - 0s 395us/step - loss: 0.9957 - accuracy: 0.8562\n",
      "Epoch 4/100\n",
      "289/289 [==============================] - 0s 397us/step - loss: 1.0246 - accuracy: 0.8441\n",
      "Epoch 5/100\n",
      "289/289 [==============================] - 0s 392us/step - loss: 0.7174 - accuracy: 0.8578\n",
      "Epoch 6/100\n",
      "289/289 [==============================] - 0s 407us/step - loss: 0.7160 - accuracy: 0.8592\n",
      "Epoch 7/100\n",
      "289/289 [==============================] - 0s 394us/step - loss: 0.7450 - accuracy: 0.8606\n",
      "Epoch 8/100\n",
      "289/289 [==============================] - 0s 396us/step - loss: 0.6822 - accuracy: 0.8615\n",
      "Epoch 9/100\n",
      "289/289 [==============================] - 0s 391us/step - loss: 0.9226 - accuracy: 0.8530\n",
      "Epoch 10/100\n",
      "289/289 [==============================] - 0s 393us/step - loss: 0.8386 - accuracy: 0.8606\n",
      "Epoch 11/100\n",
      "289/289 [==============================] - 0s 395us/step - loss: 0.6050 - accuracy: 0.8645\n",
      "Epoch 12/100\n",
      "289/289 [==============================] - 0s 391us/step - loss: 0.6596 - accuracy: 0.8627\n",
      "Epoch 13/100\n",
      "289/289 [==============================] - 0s 394us/step - loss: 0.6846 - accuracy: 0.8610\n",
      "Epoch 14/100\n",
      "289/289 [==============================] - 0s 391us/step - loss: 0.5897 - accuracy: 0.8618\n",
      "Epoch 15/100\n",
      "289/289 [==============================] - 0s 390us/step - loss: 0.7573 - accuracy: 0.8578\n",
      "Epoch 16/100\n",
      "289/289 [==============================] - 0s 390us/step - loss: 0.5977 - accuracy: 0.8627\n",
      "Epoch 17/100\n",
      "289/289 [==============================] - 0s 390us/step - loss: 0.6739 - accuracy: 0.8619\n",
      "Epoch 18/100\n",
      "289/289 [==============================] - 0s 390us/step - loss: 0.5421 - accuracy: 0.8685\n",
      "Epoch 19/100\n",
      "289/289 [==============================] - 0s 390us/step - loss: 0.5755 - accuracy: 0.8640\n",
      "Epoch 20/100\n",
      "289/289 [==============================] - 0s 388us/step - loss: 0.6214 - accuracy: 0.8649\n",
      "Epoch 21/100\n",
      "289/289 [==============================] - 0s 391us/step - loss: 0.6629 - accuracy: 0.8642\n",
      "Epoch 22/100\n",
      "289/289 [==============================] - 0s 455us/step - loss: 0.6671 - accuracy: 0.8640\n",
      "Epoch 23/100\n",
      "289/289 [==============================] - 0s 393us/step - loss: 0.6575 - accuracy: 0.8644\n",
      "Epoch 24/100\n",
      "289/289 [==============================] - 0s 399us/step - loss: 0.7048 - accuracy: 0.8614\n",
      "Epoch 25/100\n",
      "289/289 [==============================] - 0s 411us/step - loss: 0.5738 - accuracy: 0.8663\n",
      "Epoch 26/100\n",
      "289/289 [==============================] - 0s 402us/step - loss: 0.5795 - accuracy: 0.8714\n",
      "Epoch 27/100\n",
      "289/289 [==============================] - 0s 397us/step - loss: 0.5431 - accuracy: 0.8662\n",
      "Epoch 28/100\n",
      "289/289 [==============================] - 0s 396us/step - loss: 0.5976 - accuracy: 0.8608\n",
      "Epoch 29/100\n",
      "289/289 [==============================] - 0s 399us/step - loss: 0.7875 - accuracy: 0.8563\n",
      "Epoch 30/100\n",
      "289/289 [==============================] - 0s 399us/step - loss: 0.6156 - accuracy: 0.8634\n",
      "Epoch 31/100\n",
      "289/289 [==============================] - 0s 401us/step - loss: 0.7313 - accuracy: 0.8667\n",
      "Epoch 32/100\n",
      "289/289 [==============================] - 0s 395us/step - loss: 0.6335 - accuracy: 0.8615\n",
      "Epoch 33/100\n",
      "289/289 [==============================] - 0s 432us/step - loss: 0.6569 - accuracy: 0.8593\n",
      "Epoch 34/100\n",
      "289/289 [==============================] - 0s 559us/step - loss: 0.7142 - accuracy: 0.8654\n",
      "Epoch 35/100\n",
      "289/289 [==============================] - 0s 420us/step - loss: 0.7162 - accuracy: 0.8605\n",
      "Epoch 36/100\n",
      "289/289 [==============================] - 0s 426us/step - loss: 0.6405 - accuracy: 0.8646\n",
      "Epoch 37/100\n",
      "289/289 [==============================] - 0s 438us/step - loss: 0.6200 - accuracy: 0.8623\n",
      "Epoch 38/100\n",
      "289/289 [==============================] - 0s 544us/step - loss: 0.6089 - accuracy: 0.8677\n",
      "Epoch 39/100\n",
      "289/289 [==============================] - 0s 428us/step - loss: 0.6224 - accuracy: 0.8685\n",
      "Epoch 40/100\n",
      "289/289 [==============================] - 0s 411us/step - loss: 0.5198 - accuracy: 0.8678\n",
      "Epoch 41/100\n",
      "289/289 [==============================] - 0s 405us/step - loss: 0.5626 - accuracy: 0.8653\n",
      "Epoch 42/100\n",
      "289/289 [==============================] - 0s 411us/step - loss: 0.4984 - accuracy: 0.8670\n",
      "Epoch 43/100\n",
      "289/289 [==============================] - 0s 405us/step - loss: 0.4964 - accuracy: 0.8727\n",
      "Epoch 44/100\n",
      "289/289 [==============================] - 0s 408us/step - loss: 0.6456 - accuracy: 0.8624\n",
      "Epoch 45/100\n",
      "289/289 [==============================] - 0s 410us/step - loss: 0.5147 - accuracy: 0.8653\n",
      "Epoch 46/100\n",
      "289/289 [==============================] - 0s 409us/step - loss: 0.6448 - accuracy: 0.8646\n",
      "Epoch 47/100\n",
      "289/289 [==============================] - 0s 411us/step - loss: 0.6221 - accuracy: 0.8673\n",
      "Epoch 48/100\n",
      "289/289 [==============================] - 0s 407us/step - loss: 0.6345 - accuracy: 0.8646\n",
      "Epoch 49/100\n",
      "289/289 [==============================] - 0s 416us/step - loss: 0.8545 - accuracy: 0.8562\n",
      "Epoch 50/100\n",
      "289/289 [==============================] - 0s 427us/step - loss: 0.6673 - accuracy: 0.8617\n",
      "Epoch 51/100\n",
      "289/289 [==============================] - 0s 561us/step - loss: 0.5652 - accuracy: 0.8667\n",
      "Epoch 52/100\n",
      "289/289 [==============================] - 0s 437us/step - loss: 0.6578 - accuracy: 0.8607\n",
      "Epoch 53/100\n",
      "289/289 [==============================] - 0s 423us/step - loss: 0.5667 - accuracy: 0.8648\n",
      "Epoch 54/100\n",
      "289/289 [==============================] - 0s 480us/step - loss: 0.6486 - accuracy: 0.8626\n",
      "Epoch 55/100\n",
      "289/289 [==============================] - 0s 450us/step - loss: 0.5177 - accuracy: 0.8735\n",
      "Epoch 56/100\n",
      "289/289 [==============================] - 0s 439us/step - loss: 0.5835 - accuracy: 0.8674\n",
      "Epoch 57/100\n",
      "289/289 [==============================] - 0s 406us/step - loss: 0.5477 - accuracy: 0.8696\n",
      "Epoch 58/100\n",
      "289/289 [==============================] - 0s 417us/step - loss: 0.5332 - accuracy: 0.8697\n",
      "Epoch 59/100\n",
      "289/289 [==============================] - 0s 427us/step - loss: 0.6766 - accuracy: 0.8697\n",
      "Epoch 60/100\n",
      "289/289 [==============================] - 0s 467us/step - loss: 0.5642 - accuracy: 0.8666\n",
      "Epoch 61/100\n",
      "289/289 [==============================] - 0s 409us/step - loss: 0.6139 - accuracy: 0.8680\n",
      "Epoch 62/100\n",
      "289/289 [==============================] - 0s 415us/step - loss: 0.5947 - accuracy: 0.8657\n",
      "Epoch 63/100\n",
      "289/289 [==============================] - 0s 444us/step - loss: 0.5509 - accuracy: 0.8669\n",
      "Epoch 64/100\n",
      "289/289 [==============================] - 0s 415us/step - loss: 0.4669 - accuracy: 0.8757\n",
      "Epoch 65/100\n",
      "289/289 [==============================] - 0s 435us/step - loss: 0.6619 - accuracy: 0.8656\n",
      "Epoch 66/100\n",
      "289/289 [==============================] - 0s 410us/step - loss: 0.4874 - accuracy: 0.8765\n",
      "Epoch 67/100\n",
      "289/289 [==============================] - 0s 404us/step - loss: 0.5168 - accuracy: 0.8725\n",
      "Epoch 68/100\n",
      "289/289 [==============================] - 0s 408us/step - loss: 0.5626 - accuracy: 0.8704\n",
      "Epoch 69/100\n",
      "289/289 [==============================] - 0s 416us/step - loss: 0.5576 - accuracy: 0.8700\n",
      "Epoch 70/100\n",
      "289/289 [==============================] - 0s 537us/step - loss: 0.6100 - accuracy: 0.8649\n",
      "Epoch 71/100\n",
      "289/289 [==============================] - 0s 407us/step - loss: 0.5967 - accuracy: 0.8684\n",
      "Epoch 72/100\n",
      "289/289 [==============================] - 0s 410us/step - loss: 0.5262 - accuracy: 0.8716\n",
      "Epoch 73/100\n",
      "289/289 [==============================] - 0s 405us/step - loss: 0.4878 - accuracy: 0.8742\n",
      "Epoch 74/100\n",
      "289/289 [==============================] - 0s 404us/step - loss: 0.4960 - accuracy: 0.8764\n",
      "Epoch 75/100\n",
      "289/289 [==============================] - 0s 402us/step - loss: 0.5481 - accuracy: 0.8727\n",
      "Epoch 76/100\n",
      "289/289 [==============================] - 0s 463us/step - loss: 0.4171 - accuracy: 0.8774\n",
      "Epoch 77/100\n",
      "289/289 [==============================] - 0s 397us/step - loss: 0.5333 - accuracy: 0.8707\n",
      "Epoch 78/100\n",
      "289/289 [==============================] - 0s 397us/step - loss: 0.8368 - accuracy: 0.8624\n",
      "Epoch 79/100\n",
      "289/289 [==============================] - 0s 403us/step - loss: 0.4146 - accuracy: 0.8778\n",
      "Epoch 80/100\n",
      "289/289 [==============================] - 0s 399us/step - loss: 0.4956 - accuracy: 0.8749\n",
      "Epoch 81/100\n",
      "289/289 [==============================] - 0s 396us/step - loss: 0.5419 - accuracy: 0.8740\n",
      "Epoch 82/100\n",
      "289/289 [==============================] - 0s 402us/step - loss: 0.4681 - accuracy: 0.8763\n",
      "Epoch 83/100\n",
      "289/289 [==============================] - 0s 513us/step - loss: 0.4891 - accuracy: 0.8765\n",
      "Epoch 84/100\n",
      "289/289 [==============================] - 0s 398us/step - loss: 0.4658 - accuracy: 0.8739\n",
      "Epoch 85/100\n",
      "289/289 [==============================] - 0s 399us/step - loss: 0.4835 - accuracy: 0.8779\n",
      "Epoch 86/100\n",
      "289/289 [==============================] - 0s 397us/step - loss: 0.4760 - accuracy: 0.8786\n",
      "Epoch 87/100\n",
      "289/289 [==============================] - 0s 399us/step - loss: 0.3988 - accuracy: 0.8754\n",
      "Epoch 88/100\n",
      "289/289 [==============================] - 0s 399us/step - loss: 0.4370 - accuracy: 0.8777\n",
      "Epoch 89/100\n",
      "289/289 [==============================] - 0s 402us/step - loss: 0.5255 - accuracy: 0.8744\n",
      "Epoch 90/100\n",
      "289/289 [==============================] - 0s 416us/step - loss: 0.5334 - accuracy: 0.8729\n",
      "Epoch 91/100\n",
      "289/289 [==============================] - 0s 405us/step - loss: 0.5021 - accuracy: 0.8767\n",
      "Epoch 92/100\n",
      "289/289 [==============================] - 0s 414us/step - loss: 0.4364 - accuracy: 0.8793\n",
      "Epoch 93/100\n",
      "289/289 [==============================] - 0s 454us/step - loss: 0.4298 - accuracy: 0.8774\n",
      "Epoch 94/100\n",
      "289/289 [==============================] - 0s 512us/step - loss: 0.5955 - accuracy: 0.8667\n",
      "Epoch 95/100\n",
      "289/289 [==============================] - 0s 411us/step - loss: 0.7782 - accuracy: 0.8638\n",
      "Epoch 96/100\n",
      "289/289 [==============================] - 0s 426us/step - loss: 0.4774 - accuracy: 0.8773\n",
      "Epoch 97/100\n",
      "289/289 [==============================] - 0s 447us/step - loss: 0.6341 - accuracy: 0.8695\n",
      "Epoch 98/100\n",
      "289/289 [==============================] - 0s 420us/step - loss: 0.5003 - accuracy: 0.8754\n",
      "Epoch 99/100\n",
      "289/289 [==============================] - 0s 420us/step - loss: 0.5902 - accuracy: 0.8728\n",
      "Epoch 100/100\n",
      "289/289 [==============================] - 0s 416us/step - loss: 0.4445 - accuracy: 0.8809\n"
     ]
    },
    {
     "data": {
      "text/plain": [
       "<keras.callbacks.History at 0x7fad0394cfa0>"
      ]
     },
     "execution_count": 70,
     "metadata": {},
     "output_type": "execute_result"
    }
   ],
   "source": [
    "basic_model.fit(X_train, y_train, epochs=100)"
   ]
  },
  {
   "cell_type": "markdown",
   "metadata": {},
   "source": [
    "# <span style=\"color:darkblue\"> IV. Evaluate a neural network </span>\n"
   ]
  },
  {
   "cell_type": "markdown",
   "metadata": {},
   "source": [
    "<font size = \"5\">\n",
    "\n",
    "Obtain predicted probabilities and convert them to {0,1}"
   ]
  },
  {
   "cell_type": "code",
   "execution_count": 91,
   "metadata": {},
   "outputs": [
    {
     "name": "stdout",
     "output_type": "stream",
     "text": [
      "97/97 [==============================] - 0s 382us/step\n"
     ]
    }
   ],
   "source": [
    "# Convert to array\n",
    "predicted_prob = basic_model.predict(X_test)\n",
    "predicted_prob = tf.squeeze(predicted_prob)\n",
    "\n",
    "# Convert to {0,1} predictions using a 0.5 threshold\n",
    "threshold = 0.5\n",
    "predicted = np.array([1 if x >= threshold else 0 for x in predicted_prob])"
   ]
  },
  {
   "cell_type": "markdown",
   "metadata": {},
   "source": [
    "<font size = \"5\">\n",
    "\n",
    "Obtain confusion matrix"
   ]
  },
  {
   "cell_type": "code",
   "execution_count": 93,
   "metadata": {},
   "outputs": [
    {
     "data": {
      "text/plain": [
       "<sklearn.metrics._plot.confusion_matrix.ConfusionMatrixDisplay at 0x7face2188220>"
      ]
     },
     "execution_count": 93,
     "metadata": {},
     "output_type": "execute_result"
    },
    {
     "data": {
      "image/png": "[encoded data removed]",
      "text/plain": [
       "<Figure size 640x480 with 2 Axes>"
      ]
     },
     "metadata": {},
     "output_type": "display_data"
    }
   ],
   "source": [
    "# Obtain confusion matrix\n",
    "cm = confusion_matrix(y_test, predicted)\n",
    "\n",
    "disp = ConfusionMatrixDisplay(confusion_matrix=cm)\n",
    "displ.plot()"
   ]
  },
  {
   "cell_type": "markdown",
   "metadata": {},
   "source": [
    "<font size = \"5\">\n",
    "\n",
    "At the moment we defined a very simple neural network <br>\n",
    "with just an input layer and an output layer. <br>\n",
    "\n",
    "Try it yourself!\n",
    "\n",
    "- Increase the number of units in the input layer\n",
    "- Does prediction accuracy improve?\n"
   ]
  },
  {
   "cell_type": "code",
   "execution_count": 80,
   "metadata": {},
   "outputs": [],
   "source": [
    "# Write your own code\n",
    "\n",
    "\n"
   ]
  },
  {
   "cell_type": "markdown",
   "metadata": {},
   "source": [
    "<font size = \"5\">\n",
    "\n",
    "\n",
    "Try it yourself!\n",
    "\n",
    "- Add one or more hidden layers\n",
    "- Does prediction accuracy improve?"
   ]
  },
  {
   "cell_type": "code",
   "execution_count": null,
   "metadata": {},
   "outputs": [],
   "source": [
    "# Write your own code\n",
    "\n",
    "\n",
    "\n",
    "\n"
   ]
  },
  {
   "cell_type": "markdown",
   "metadata": {},
   "source": [
    "<font size = \"5\">\n",
    "\n",
    "Try it yourself!\n",
    "\n",
    "- Import the Mashable dataset that we used earlier <br>\n",
    "(you can find this in this in the ```ArticlesTrain.csv``` and <br>\n",
    "```ArticlesTest.csv``` files in the ```data_raw``` folder)\n",
    "\n",
    "- Try to set up a neural network with a simple input-output layer "
   ]
  },
  {
   "cell_type": "code",
   "execution_count": null,
   "metadata": {},
   "outputs": [],
   "source": [
    "# Write your own code\n",
    "\n",
    "\n",
    "\n",
    "\n"
   ]
  },
  {
   "cell_type": "markdown",
   "metadata": {},
   "source": [
    "# <span style=\"color:darkblue\"> V. Additional resources </span>\n",
    "\n",
    "<font size = \"5\">\n",
    "\n",
    "Quick guide:\n",
    "\n",
    "https://www.tensorflow.org/tutorials/quickstart/beginner\n",
    "\n",
    "Binary classification:\n",
    "\n",
    "https://www.freecodecamp.org/news/binary-classification-made-simple-with-tensorflow/\n",
    "\n",
    "Image classification:\n",
    "\n",
    "https://www.tensorflow.org/tutorials/images/classification\n",
    "\n"
   ]
  }
 ],
 "metadata": {
  "kernelspec": {
   "display_name": "base",
   "language": "python",
   "name": "python3"
  },
  "language_info": {
   "codemirror_mode": {
    "name": "ipython",
    "version": 3
   },
   "file_extension": ".py",
   "mimetype": "text/x-python",
   "name": "python",
   "nbconvert_exporter": "python",
   "pygments_lexer": "ipython3",
   "version": "3.9.18"
  },
  "orig_nbformat": 4,
  "vscode": {
   "interpreter": {
    "hash": "45fc1f684f6f416f40889115beff3ddf69879b64cf4bfee48cb72a61e9d15d1a"
   }
  }
 },
 "nbformat": 4,
 "nbformat_minor": 2
}
