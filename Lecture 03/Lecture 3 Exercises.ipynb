{
 "cells": [
  {
   "attachments": {},
   "cell_type": "markdown",
   "metadata": {},
   "source": [
    "# <span style=\"color:darkblue\"> Lecture 3 Exercises </span>"
   ]
  },
  {
   "cell_type": "markdown",
   "metadata": {},
   "source": [
    "\n",
    "\n",
    "## Short Questions\n",
    "\n",
    "<font size = \"5\">\n",
    "\n",
    "1. What is a codebook?\n",
    "2. How you define a missing value in Python?\n",
    "2. What is chaining?"
   ]
  },
  {
   "cell_type": "code",
   "execution_count": null,
   "metadata": {},
   "outputs": [],
   "source": [
    "# Write your answers here as comments\n",
    "\n",
    "# 1. a codebook is a document that used to defines and explain variables in the dataset\n",
    "\n",
    "# 2. 'none' or 'np.nan'\n",
    "# and np.nan is for missing numerical data\n",
    "\n",
    "# 3. using multiple methed sequentially in a statement. \n",
    "\n"
   ]
  },
  {
   "cell_type": "markdown",
   "metadata": {},
   "source": [
    "## Long Questions"
   ]
  },
  {
   "attachments": {},
   "cell_type": "markdown",
   "metadata": {},
   "source": [
    "<font size = \"5\">\n",
    "\n",
    "Import the libraries \"numpy\" and \"pandas\""
   ]
  },
  {
   "cell_type": "code",
   "execution_count": 1,
   "metadata": {},
   "outputs": [],
   "source": [
    "# Write your own code\n",
    "\n",
    "import numpy as np\n",
    "import pandas as pd\n",
    "\n"
   ]
  },
  {
   "cell_type": "markdown",
   "metadata": {},
   "source": [
    "<font size = \"5\">\n",
    "\n",
    "(a) Replace values from intervals\n",
    "\n",
    "<font size = \"3\">\n",
    "\n",
    "- Import the dataset \"data_raw/students.csv\" to a new object \"students\"\n",
    "- Use \"pd.cut()\" to assign the column \"numericgrade\" to a letter grade <br>\n",
    "using the following table\n",
    "\n",
    "<img src=\"figures/grading_scale.png\" alt=\"drawing\" width=\"600\"/>\n"
   ]
  },
  {
   "cell_type": "code",
   "execution_count": 4,
   "metadata": {},
   "outputs": [
    {
     "name": "stdout",
     "output_type": "stream",
     "text": [
      "<bound method NDFrame.head of     studentid  numericgrade lettergrade\n",
      "0           1            61          C-\n",
      "1           2             0         NaN\n",
      "2           3            14           F\n",
      "3           4            57           D\n",
      "4           5            72          C+\n",
      "5           6            93           A\n",
      "6           7            40           F\n",
      "7           8            11           F\n",
      "8           9             3           F\n",
      "9          10            63          C-\n",
      "10         11             7           F\n",
      "11         12            46           F\n",
      "12         13            75          B-\n",
      "13         14            95           A\n",
      "14         15            22           F\n",
      "15         16            40           F\n",
      "16         17            53           F\n",
      "17         18            57           D\n",
      "18         19            82           B\n",
      "19         20            50           F\n",
      "20         21             8           F\n",
      "21         22            87          A-\n",
      "22         23            82           B\n",
      "23         24            30           F\n",
      "24         25            62          C->\n"
     ]
    }
   ],
   "source": [
    "# Write your own code\n",
    "\n",
    "students = pd.read_csv (\"data_raw/students.csv\")\n",
    "\n",
    "bins = [0, 54, 59, 64, 69, 74, 79, 82, 86, 92, 100]\n",
    "labels = ['F', 'D', 'C-', 'C', 'C+', 'B-', 'B', 'B+', 'A-', 'A']\n",
    "students['lettergrade'] = pd.cut(students['numericgrade'],bins=bins, labels=labels)\n",
    "print(students.head)\n",
    "\n"
   ]
  },
  {
   "cell_type": "markdown",
   "metadata": {},
   "source": [
    "<font size = \"5\">\n",
    "\n",
    "For questions (b)-(e) use \"results.csv\", <br>\n",
    "a dataset on competitive car racing\n",
    "\n",
    "Import the dataset \"data/raw_results.csv\" to <br>\n",
    " a new object \"results\""
   ]
  },
  {
   "cell_type": "markdown",
   "metadata": {},
   "source": [
    "<font size = \"5\">\n",
    "\n",
    "(b) Check column types\n",
    "\n",
    "<font size = \"3\">\n",
    "\n",
    "- View the dataset\n",
    "- Use the function \"results.dtypes\" to get the column types\n",
    "- Search for the \"results\" table in \"codebook/f1_codebook.pdf\".\n",
    "- Does the type of the \"milliseconds\" column agree with the codebook? <br>\n",
    "i.e. is it an integer, float, or string/object?\n",
    "\n",
    "\n",
    "HINT: See Lectures 13 and 14 for how to interpret the codebook\n"
   ]
  },
  {
   "cell_type": "code",
   "execution_count": 23,
   "metadata": {},
   "outputs": [
    {
     "name": "stdout",
     "output_type": "stream",
     "text": [
      "   resultId  raceId  driverId  constructorId number  grid position  \\\n",
      "0         1      18         1              1     22     1        1   \n",
      "1         2      18         2              2      3     5        2   \n",
      "2         3      18         3              3      7     7        3   \n",
      "3         4      18         4              4      5    11        4   \n",
      "4         5      18         5              1     23     3        5   \n",
      "\n",
      "  positionText  positionOrder  points  laps         time milliseconds  \\\n",
      "0            1              1    10.0    58  1:34:50.616      5690616   \n",
      "1            2              2     8.0    58       +5.478      5696094   \n",
      "2            3              3     6.0    58       +8.163      5698779   \n",
      "3            4              4     5.0    58      +17.181      5707797   \n",
      "4            5              5     4.0    58      +18.014      5708630   \n",
      "\n",
      "  fastestLap rank fastestLapTime fastestLapSpeed  statusId  \n",
      "0         39    2       1:27.452         218.300         1  \n",
      "1         41    3       1:27.739         217.586         1  \n",
      "2         41    5       1:28.090         216.719         1  \n",
      "3         58    7       1:28.603         215.464         1  \n",
      "4         43    1       1:27.418         218.385         1  \n",
      "resultId             int64\n",
      "raceId               int64\n",
      "driverId             int64\n",
      "constructorId        int64\n",
      "number              object\n",
      "grid                 int64\n",
      "position            object\n",
      "positionText        object\n",
      "positionOrder        int64\n",
      "points             float64\n",
      "laps                 int64\n",
      "time                object\n",
      "milliseconds        object\n",
      "fastestLap          object\n",
      "rank                object\n",
      "fastestLapTime      object\n",
      "fastestLapSpeed     object\n",
      "statusId             int64\n",
      "dtype: object\n"
     ]
    }
   ],
   "source": [
    "# Write your own code\n",
    "\n",
    "results = pd.read_csv(\"data_raw/results.csv\")\n",
    "print(results.head())\n",
    "print(results.dtypes)\n",
    "\n",
    "\n"
   ]
  },
  {
   "attachments": {
    "image.png": {
     "image/png": "[encoded data removed]"
    }
   },
   "cell_type": "markdown",
   "metadata": {},
   "source": [
    "![image.png](attachment:image.png)"
   ]
  },
  {
   "cell_type": "code",
   "execution_count": 24,
   "metadata": {},
   "outputs": [
    {
     "name": "stdout",
     "output_type": "stream",
     "text": [
      "object\n"
     ]
    }
   ],
   "source": [
    "print(results[\"milliseconds\"].dtypes)"
   ]
  },
  {
   "cell_type": "markdown",
   "metadata": {},
   "source": [
    "No, the types are different. "
   ]
  },
  {
   "cell_type": "markdown",
   "metadata": {},
   "source": [
    "<font size = \"5\">\n",
    "\n",
    "(c) Clean a column\n",
    "\n",
    "<font size = \"3\">\n",
    "\n",
    "- Import the dataset \"data_raw/results.csv\" to a new object \"results\"\n",
    "- Our goal is to replace any string values in the column \"milliseconds\" <br>\n",
    "to missing values (NaNs) and covert to numeric\n",
    "- To do so, go to Lecture 13 and follow the setups under the headings\n",
    "    - \"Extract list of non-numeric values\"\n",
    "    - \"Replace certain values\"\n",
    "    - \"Convert column to numeric\"\n",
    "\n",
    "HINT: substitute \"milliseconds\" instead of \"alt\", <br>\n",
    "and the dataset \"results\" instead of \"circuits\" \n"
   ]
  },
  {
   "cell_type": "code",
   "execution_count": 25,
   "metadata": {},
   "outputs": [
    {
     "name": "stdout",
     "output_type": "stream",
     "text": [
      "['\\\\N']\n"
     ]
    }
   ],
   "source": [
    "results['milliseconds'] = results['milliseconds'].astype(str)\n",
    "subset = results.query(\"milliseconds.str.isnumeric() == False\")\n",
    "list_unique = pd.unique(subset[\"milliseconds\"])\n",
    "print(list_unique)  "
   ]
  },
  {
   "cell_type": "code",
   "execution_count": 30,
   "metadata": {},
   "outputs": [],
   "source": [
    "list_old = ['\\\\N']\n",
    "list_new = [1]\n",
    "\n",
    "# This command replaces the values of the \"alt\" column\n",
    "results[\"milliseconds\"] = results[\"milliseconds\"].replace(list_old, list_new)"
   ]
  },
  {
   "cell_type": "code",
   "execution_count": 31,
   "metadata": {},
   "outputs": [
    {
     "data": {
      "text/plain": [
       "dtype('O')"
      ]
     },
     "execution_count": 31,
     "metadata": {},
     "output_type": "execute_result"
    }
   ],
   "source": [
    "results[\"milliseconds\"].dtypes"
   ]
  },
  {
   "cell_type": "code",
   "execution_count": 33,
   "metadata": {},
   "outputs": [
    {
     "data": {
      "text/plain": [
       "1709182.8365325078"
      ]
     },
     "execution_count": 33,
     "metadata": {},
     "output_type": "execute_result"
    }
   ],
   "source": [
    "results[\"milliseconds_numerical\"] = pd.to_numeric(results[\"milliseconds\"])\n",
    "results[\"milliseconds_numerical\"].mean()"
   ]
  },
  {
   "cell_type": "markdown",
   "metadata": {},
   "source": [
    "<font size = \"5\">\n",
    "\n",
    "(d) Groupby + Aggregate\n",
    "\n",
    "<font size = \"3\">\n",
    "\n",
    "- Compute the mean and standard deviation of \"laps\", <br>\n",
    "grouping by \"constructorId\". Store the new dataset <br>\n",
    "as \"results_agg\"\n",
    "- Sort the aggregate dataset in decending <br>\n",
    "order of mean laps using \".sort_values()\"\n",
    "\n",
    "HINT: See Lecture 14 <br>\n"
   ]
  },
  {
   "cell_type": "code",
   "execution_count": 49,
   "metadata": {},
   "outputs": [
    {
     "name": "stdout",
     "output_type": "stream",
     "text": [
      "                mean_laps    sd_laps\n",
      "constructorId                       \n",
      "149            198.500000   2.121320\n",
      "112            197.000000   4.242641\n",
      "109            184.285714  32.912583\n",
      "119            178.666667  36.950417\n",
      "108            163.764706  63.148168\n",
      "...                   ...        ...\n",
      "93               0.000000        NaN\n",
      "61               0.000000   0.000000\n",
      "137              0.000000        NaN\n",
      "91               0.000000        NaN\n",
      "74               0.000000   0.000000\n",
      "\n",
      "[210 rows x 2 columns]\n"
     ]
    }
   ],
   "source": [
    "# Write your own code\n",
    "\n",
    "results_agg = (results.groupby('constructorId')\n",
    "                       .agg(mean_laps = ('laps', 'mean'),\n",
    "                            sd_laps = ('laps', 'std'))\n",
    "                       .sort_values(by='mean_laps', ascending=False))\n",
    "\n",
    "print(results_agg)\n"
   ]
  },
  {
   "cell_type": "markdown",
   "metadata": {},
   "source": [
    "<font size = \"5\" >\n",
    "\n",
    "(e) Query + Groupby + Aggregate\n",
    "\n",
    "<font size = \"3\">\n",
    "\n",
    "- Use \".query()\" to subset observations with <br>\n",
    "'race_id >= 200'\n",
    "- Compute the mean and standard deviation of \"laps\", <br>\n",
    "grouping by \"constructorId\". Store the new dataset <br>\n",
    "as \"results_agg\"\n",
    "\n",
    "Hint: See Lecture 11 (to refresh \".query()\") and <br>\n",
    "Lecture 14 for how to combine it with \".groupby()\""
   ]
  },
  {
   "cell_type": "code",
   "execution_count": 50,
   "metadata": {},
   "outputs": [
    {
     "data": {
      "text/html": [
       "<div>\n",
       "<style scoped>\n",
       "    .dataframe tbody tr th:only-of-type {\n",
       "        vertical-align: middle;\n",
       "    }\n",
       "\n",
       "    .dataframe tbody tr th {\n",
       "        vertical-align: top;\n",
       "    }\n",
       "\n",
       "    .dataframe thead th {\n",
       "        text-align: right;\n",
       "    }\n",
       "</style>\n",
       "<table border=\"1\" class=\"dataframe\">\n",
       "  <thead>\n",
       "    <tr style=\"text-align: right;\">\n",
       "      <th></th>\n",
       "      <th>mean_laps</th>\n",
       "      <th>sd_laps</th>\n",
       "      <th>count_obs</th>\n",
       "    </tr>\n",
       "    <tr>\n",
       "      <th>constructorId</th>\n",
       "      <th></th>\n",
       "      <th></th>\n",
       "      <th></th>\n",
       "    </tr>\n",
       "  </thead>\n",
       "  <tbody>\n",
       "    <tr>\n",
       "      <th>1</th>\n",
       "      <td>50.093510</td>\n",
       "      <td>23.147774</td>\n",
       "      <td>1433</td>\n",
       "    </tr>\n",
       "    <tr>\n",
       "      <th>3</th>\n",
       "      <td>51.349621</td>\n",
       "      <td>21.064902</td>\n",
       "      <td>1187</td>\n",
       "    </tr>\n",
       "    <tr>\n",
       "      <th>4</th>\n",
       "      <td>46.396450</td>\n",
       "      <td>22.565290</td>\n",
       "      <td>507</td>\n",
       "    </tr>\n",
       "    <tr>\n",
       "      <th>5</th>\n",
       "      <td>51.787879</td>\n",
       "      <td>18.281774</td>\n",
       "      <td>396</td>\n",
       "    </tr>\n",
       "    <tr>\n",
       "      <th>6</th>\n",
       "      <td>50.305798</td>\n",
       "      <td>25.953854</td>\n",
       "      <td>1949</td>\n",
       "    </tr>\n",
       "    <tr>\n",
       "      <th>...</th>\n",
       "      <td>...</td>\n",
       "      <td>...</td>\n",
       "      <td>...</td>\n",
       "    </tr>\n",
       "    <tr>\n",
       "      <th>209</th>\n",
       "      <td>52.282051</td>\n",
       "      <td>19.522147</td>\n",
       "      <td>78</td>\n",
       "    </tr>\n",
       "    <tr>\n",
       "      <th>210</th>\n",
       "      <td>51.434028</td>\n",
       "      <td>19.915741</td>\n",
       "      <td>288</td>\n",
       "    </tr>\n",
       "    <tr>\n",
       "      <th>211</th>\n",
       "      <td>54.684211</td>\n",
       "      <td>17.680279</td>\n",
       "      <td>76</td>\n",
       "    </tr>\n",
       "    <tr>\n",
       "      <th>213</th>\n",
       "      <td>52.393443</td>\n",
       "      <td>19.883361</td>\n",
       "      <td>122</td>\n",
       "    </tr>\n",
       "    <tr>\n",
       "      <th>214</th>\n",
       "      <td>54.204545</td>\n",
       "      <td>17.951505</td>\n",
       "      <td>88</td>\n",
       "    </tr>\n",
       "  </tbody>\n",
       "</table>\n",
       "<p>201 rows × 3 columns</p>\n",
       "</div>"
      ],
      "text/plain": [
       "               mean_laps    sd_laps  count_obs\n",
       "constructorId                                 \n",
       "1              50.093510  23.147774       1433\n",
       "3              51.349621  21.064902       1187\n",
       "4              46.396450  22.565290        507\n",
       "5              51.787879  18.281774        396\n",
       "6              50.305798  25.953854       1949\n",
       "...                  ...        ...        ...\n",
       "209            52.282051  19.522147         78\n",
       "210            51.434028  19.915741        288\n",
       "211            54.684211  17.680279         76\n",
       "213            52.393443  19.883361        122\n",
       "214            54.204545  17.951505         88\n",
       "\n",
       "[201 rows x 3 columns]"
      ]
     },
     "execution_count": 50,
     "metadata": {},
     "output_type": "execute_result"
    }
   ],
   "source": [
    "# Write your own code\n",
    "\n",
    "results_agg = (results.query(\"raceId >= 200\")\n",
    "                      .groupby(\"constructorId\")\n",
    "                      .agg(mean_laps = ('laps', 'mean'),\n",
    "                           sd_laps = ('laps', 'std'),\n",
    "                           count_obs = ('laps', 'size'))) \n",
    "\n",
    "results_agg\n",
    "\n"
   ]
  },
  {
   "attachments": {},
   "cell_type": "markdown",
   "metadata": {},
   "source": [
    "\n",
    "<font size = \"5\">\n",
    "\n",
    "(f) Replace the values of a column\n",
    "\n",
    "<font size = \"3\">\n",
    "\n",
    "- Import the \"data_raw/constructor_standings.csv\" file\n",
    "- Replace the values \"E\" with 11 in the column \"positionText\"\n",
    "- Create a new column \"positionNumeric\" that converts <br>\n",
    "the modified \"positionText\" column from string to numeric <br>\n",
    "using ```pd.to_numeric()```\n",
    "\n"
   ]
  },
  {
   "cell_type": "code",
   "execution_count": 51,
   "metadata": {},
   "outputs": [
    {
     "name": "stdout",
     "output_type": "stream",
     "text": [
      "   constructorStandingsId  raceId  constructorId  points  position  \\\n",
      "0                       1      18              1    14.0         1   \n",
      "1                       2      18              2     8.0         3   \n",
      "2                       3      18              3     9.0         2   \n",
      "3                       4      18              4     5.0         4   \n",
      "4                       5      18              5     2.0         5   \n",
      "\n",
      "  positionText  wins  positionNumeric  \n",
      "0            1     1                1  \n",
      "1            3     0                3  \n",
      "2            2     0                2  \n",
      "3            4     0                4  \n",
      "4            5     0                5  \n"
     ]
    }
   ],
   "source": [
    "# Write your own code\n",
    "\n",
    "constructor_standings = pd.read_csv('data_raw/constructor_standings.csv')  \n",
    "\n",
    "# Replace \n",
    "constructor_standings['positionText'] = constructor_standings['positionText'].replace('E', '11')\n",
    "\n",
    "# Convert from string to numeric\n",
    "constructor_standings['positionNumeric'] = pd.to_numeric(constructor_standings['positionText'])\n",
    "\n",
    "print(constructor_standings.head())\n",
    "\n",
    "\n"
   ]
  },
  {
   "attachments": {},
   "cell_type": "markdown",
   "metadata": {},
   "source": [
    "<font size = \"5\">\n",
    "\n",
    "(g) Recode a numeric colum\n",
    "\n",
    "<font size = \"3\">\n",
    "\n",
    "- Import the \"data_raw/races.csv\" file\n",
    "- Recode the \"year\" column into a new column \"year_brackets\" <br>\n",
    "with the following categories\n",
    "\n",
    "$\\qquad$ ``` [\"1950-1970\",\"1971-1990\",\"1991-2005\", \"2006-2020\", \"2020-onwards\"] ```\n",
    "\n",
    "$\\qquad$ HINT: Use the \"pd.cut()\" command. "
   ]
  },
  {
   "cell_type": "code",
   "execution_count": 52,
   "metadata": {},
   "outputs": [
    {
     "name": "stdout",
     "output_type": "stream",
     "text": [
      "   year year_brackets\n",
      "0  2009     2006-2020\n",
      "1  2009     2006-2020\n",
      "2  2009     2006-2020\n",
      "3  2009     2006-2020\n",
      "4  2009     2006-2020\n"
     ]
    }
   ],
   "source": [
    "races = pd.read_csv('data_raw/races.csv')  \n",
    "\n",
    "# Define bins and labels\n",
    "bins = [1949, 1970, 1990, 2005, 2020, float('inf')]\n",
    "labels = [\"1950-1970\", \"1971-1990\", \"1991-2005\", \"2006-2020\", \"2020-onwards\"]\n",
    "\n",
    "races['year_brackets'] = pd.cut(races['year'], bins=bins, labels=labels, right=True, include_lowest=True)\n",
    "print(races[['year', 'year_brackets']].head())\n",
    "\n",
    "\n",
    "\n"
   ]
  },
  {
   "attachments": {},
   "cell_type": "markdown",
   "metadata": {},
   "source": [
    "<font size = \"5\">\n",
    "\n",
    "(h) Aggregate and query\n",
    "\n",
    "<font size = \"3\">\n",
    "\n",
    "- Import the \"data_raw/constructor_standings.csv\" file\n",
    "- Subset the observations for 'raceId == 10' using ```.query()```\n",
    "- Obtain the sum of \"points\" by \"constructorId\" <br> \n",
    "(the team) using ``` .groupby().agg() ```\n",
    "- Subset the teams with a sum of points $\\ge 50$\n",
    "- Store the results of all these operations in a dataframe <br>\n",
    "```constructor_standings_agg ```"
   ]
  },
  {
   "cell_type": "code",
   "execution_count": 53,
   "metadata": {},
   "outputs": [
    {
     "name": "stdout",
     "output_type": "stream",
     "text": [
      "   index  constructorId  total_points\n",
      "0      0            NaN           NaN\n",
      "1      1            NaN           NaN\n",
      "2      2            NaN           NaN\n",
      "3      3            NaN           NaN\n",
      "4      4            NaN           NaN\n",
      "5      5            NaN           NaN\n",
      "6      6            NaN           NaN\n",
      "7      7            NaN          98.5\n",
      "8      8            NaN           NaN\n",
      "9      9            NaN         114.0\n"
     ]
    }
   ],
   "source": [
    "# Write your own code\n",
    "\n",
    "subset = constructor_standings.query('raceId == 10')\n",
    "\n",
    "constructor_standings_agg = (constructor_standings.query(\"raceId == 10\")\n",
    "                                                .groupby(\"constructorId\")\n",
    "                                                .agg(total_points = ('points', 'sum'))\n",
    "                                                .reset_index())\n",
    "\n",
    "constructor_standings_agg = constructor_standings_agg[constructor_standings_agg >= 50].reset_index()\n",
    "\n",
    "print(constructor_standings_agg)\n",
    "\n",
    "\n"
   ]
  },
  {
   "attachments": {},
   "cell_type": "markdown",
   "metadata": {},
   "source": [
    "<font size = \"5\">\n",
    "\n",
    "(i) Aggregate and sort\n",
    "\n",
    "<font size = \"3\">\n",
    "\n",
    "- Import the \"data_raw/constructor_standings.csv\" file\n",
    "- Obtain the sum of \"points\" by \"constructorId\" <br> \n",
    "(the team) using ``` .groupby().agg() ```\n",
    "- Sort the teams in descending order using of <br>\n",
    "the sum of points using ``` .sort_values() ```"
   ]
  },
  {
   "cell_type": "code",
   "execution_count": 55,
   "metadata": {},
   "outputs": [
    {
     "name": "stdout",
     "output_type": "stream",
     "text": [
      "     constructorId   points\n",
      "5                6  90204.0\n",
      "109            131  71808.5\n",
      "8                9  64986.5\n",
      "0                1  57188.5\n",
      "2                3  32093.5\n",
      "..             ...      ...\n",
      "89              93      0.0\n",
      "88              92      0.0\n",
      "86              90      0.0\n",
      "85              89      0.0\n",
      "87              91      0.0\n",
      "\n",
      "[159 rows x 2 columns]\n"
     ]
    }
   ],
   "source": [
    "# Write your own code\n",
    "\n",
    "\n",
    "constructor_points_sum = (constructor_standings.groupby('constructorId')['points']\n",
    "                                                    .agg('sum')\n",
    "                                                    .reset_index())\n",
    "\n",
    "constructor_points_sum_sorted = constructor_points_sum.sort_values(by='points', ascending=False)\n",
    "\n",
    "print(constructor_points_sum_sorted)\n",
    "\n",
    "\n",
    "\n"
   ]
  },
  {
   "attachments": {},
   "cell_type": "markdown",
   "metadata": {},
   "source": [
    "<font size = \"5\">\n",
    "\n",
    "(j) Rename column\n",
    "\n",
    "<font size = \"3\">\n",
    "\n",
    "- Import the \"data_raw/constructor_standings.csv\" file\n",
    "- Rename the column \"wins\" to \"wins_constructor\"\n",
    "\n",
    "HINT: Create a dictionary and use ```.rename(columns = ...)``` <br>"
   ]
  },
  {
   "cell_type": "code",
   "execution_count": 56,
   "metadata": {},
   "outputs": [
    {
     "name": "stdout",
     "output_type": "stream",
     "text": [
      "   constructorStandingsId  raceId  constructorId  points  position  \\\n",
      "0                       1      18              1    14.0         1   \n",
      "1                       2      18              2     8.0         3   \n",
      "2                       3      18              3     9.0         2   \n",
      "3                       4      18              4     5.0         4   \n",
      "4                       5      18              5     2.0         5   \n",
      "\n",
      "  positionText  wins_constructor  positionNumeric  \n",
      "0            1                 1                1  \n",
      "1            3                 0                3  \n",
      "2            2                 0                2  \n",
      "3            4                 0                4  \n",
      "4            5                 0                5  \n"
     ]
    }
   ],
   "source": [
    "# Write your own code\n",
    "\n",
    "rename_dict = {'wins': 'wins_constructor'}\n",
    "constructor_standings.rename(columns=rename_dict, inplace=True)\n",
    "print(constructor_standings.head())\n",
    "\n",
    "\n"
   ]
  },
  {
   "attachments": {},
   "cell_type": "markdown",
   "metadata": {},
   "source": [
    "<font size = \"5\">\n",
    "\n",
    "(k) Merge dataset\n",
    "\n",
    "<font size = \"3\">\n",
    "\n",
    "- Import the \"data_raw/constructor_standings.csv\" and <br>\n",
    "\"data_raw/constructors.csv\" files\n",
    "- Create a new dataset with  ```pd.merge()``` using <br>\n",
    "\"constructor_standings\" as the primary dataset, and <br>\n",
    "\"constructors\" as the secondary dataset, merging on <br>\n",
    "the column \"constructorId\"\n",
    "- To get full points **ONLY** merge the \"nationality\" column <br>\n",
    "from the secondary dataset (not all the columns)\n",
    "\n",
    "HINT: Use ```[[...]]``` to extract a subset of columns <br>\n",
    "from the secondary dataset before merging, including the <br>\n",
    "\"constructorId\" column"
   ]
  },
  {
   "cell_type": "code",
   "execution_count": 57,
   "metadata": {},
   "outputs": [
    {
     "name": "stdout",
     "output_type": "stream",
     "text": [
      "   constructorStandingsId  raceId  constructorId  points  position  \\\n",
      "0                       1      18              1    14.0         1   \n",
      "1                       7      19              1    24.0         1   \n",
      "2                      18      20              1    28.0         3   \n",
      "3                      29      21              1    34.0         3   \n",
      "4                      40      22              1    42.0         3   \n",
      "\n",
      "  positionText  wins nationality  \n",
      "0            1     1     British  \n",
      "1            1     1     British  \n",
      "2            3     1     British  \n",
      "3            3     1     British  \n",
      "4            3     1     British  \n"
     ]
    }
   ],
   "source": [
    "# Write your own code\n",
    "\n",
    "constructor_standings = pd.read_csv('data_raw/constructor_standings.csv')  \n",
    "constructors = pd.read_csv('data_raw/constructors.csv')  \n",
    "\n",
    "# Extract \n",
    "constructors_subset = constructors[['constructorId', 'nationality']]\n",
    "\n",
    "# Merge \n",
    "merged_dataset = pd.merge(constructor_standings, constructors_subset, on='constructorId')\n",
    "\n",
    "print(merged_dataset.head())\n",
    "\n",
    "\n",
    "\n",
    "\n"
   ]
  }
 ],
 "metadata": {
  "kernelspec": {
   "display_name": "base",
   "language": "python",
   "name": "python3"
  },
  "language_info": {
   "codemirror_mode": {
    "name": "ipython",
    "version": 3
   },
   "file_extension": ".py",
   "mimetype": "text/x-python",
   "name": "python",
   "nbconvert_exporter": "python",
   "pygments_lexer": "ipython3",
   "version": "3.11.5"
  },
  "orig_nbformat": 4,
  "vscode": {
   "interpreter": {
    "hash": "45fc1f684f6f416f40889115beff3ddf69879b64cf4bfee48cb72a61e9d15d1a"
   }
  }
 },
 "nbformat": 4,
 "nbformat_minor": 2
}
