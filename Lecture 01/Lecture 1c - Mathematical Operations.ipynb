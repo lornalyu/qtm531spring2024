{
 "cells": [
  {
   "attachments": {},
   "cell_type": "markdown",
   "metadata": {},
   "source": [
    "# <span style=\"color:darkblue\"> Lecture 3: Mathematical Operations and Random Numbers </span>"
   ]
  },
  {
   "attachments": {},
   "cell_type": "markdown",
   "metadata": {},
   "source": [
    "<font size=\"5\"> \n",
    "\n",
    "In the previous class we:\n",
    "- Introduced lists and variable types\n",
    "- Talked about how to extract elements from a list"
   ]
  },
  {
   "attachments": {},
   "cell_type": "markdown",
   "metadata": {},
   "source": [
    "<font size=\"5\"> \n",
    "\n",
    "In this class we will:\n",
    "\n",
    "- Introduce a library for general mathematical operations\n",
    "- Generate random numbers\n",
    "- (Optional) Matrix operations"
   ]
  },
  {
   "attachments": {},
   "cell_type": "markdown",
   "metadata": {},
   "source": [
    "## <span style=\"color:darkblue\"> I. Import Libraries </span>"
   ]
  },
  {
   "cell_type": "code",
   "execution_count": 2,
   "metadata": {},
   "outputs": [],
   "source": [
    "# the \"numPy\" library is used for mathematical operations\n",
    "# the \"matplotlib\" library is for generating graphs\n",
    "\n",
    "import numpy as np\n",
    "import matplotlib.pyplot as plt\n"
   ]
  },
  {
   "attachments": {},
   "cell_type": "markdown",
   "metadata": {},
   "source": [
    "##  <span style=\"color:darkblue\"> II. Numbers and Functions </span>"
   ]
  },
  {
   "attachments": {},
   "cell_type": "markdown",
   "metadata": {},
   "source": [
    "<font size = \"5\" >\n",
    "Examples of numPy numbers"
   ]
  },
  {
   "cell_type": "code",
   "execution_count": 3,
   "metadata": {},
   "outputs": [
    {
     "data": {
      "text/plain": [
       "3.141592653589793"
      ]
     },
     "execution_count": 3,
     "metadata": {},
     "output_type": "execute_result"
    }
   ],
   "source": [
    "# Computes \"pi\" (3.14...)\n",
    "\n",
    "np.pi"
   ]
  },
  {
   "attachments": {},
   "cell_type": "markdown",
   "metadata": {},
   "source": [
    "<font size = \"5\" >\n",
    "\n",
    "Examples of numPy functions\n",
    "\n",
    "$ ln(x), e^x, sin(x), cos(x), \\sqrt{x}$"
   ]
  },
  {
   "cell_type": "code",
   "execution_count": 4,
   "metadata": {},
   "outputs": [
    {
     "name": "stdout",
     "output_type": "stream",
     "text": [
      "0.0\n",
      "2.718281828459045\n",
      "0.8414709848078965\n",
      "0.5403023058681398\n",
      "1.0\n"
     ]
    }
   ],
   "source": [
    "# log(x) computes the logarithm with base \"e\" (Euler constant)\n",
    "# exp(x) compute the Euler constant raised to the power of \"x\"\n",
    "# sing(x) computes the sine of x\n",
    "# cos(x) computes the cosine of x\n",
    "# In this example, we're substituting x = 1\n",
    "\n",
    "print(np.log(1))\n",
    "print(np.exp(1))\n",
    "print(np.sin(1))\n",
    "print(np.cos(1))\n",
    "print(np.sqrt(1))"
   ]
  },
  {
   "attachments": {},
   "cell_type": "markdown",
   "metadata": {},
   "source": [
    "<font size = \"5\">\n",
    "\n",
    "Try it yourself!\n",
    "\n",
    "- Create a new variable, $x = 5$\n",
    "- Compute $\\pi x^2$\n",
    "- Compute $ \\frac{1}{\\sqrt{2\\pi}}e^{-x^2} $"
   ]
  },
  {
   "cell_type": "code",
   "execution_count": 10,
   "metadata": {},
   "outputs": [
    {
     "name": "stdout",
     "output_type": "stream",
     "text": [
      "21.991148575128552\n",
      "0.0003637882707952594\n"
     ]
    }
   ],
   "source": [
    "# Include your answer here:\n",
    "\n",
    "x = 5\n",
    "print(np.pi*(x^2))\n",
    "print((1/np.sqrt(2*np.pi))*np.exp(-x^2))"
   ]
  },
  {
   "cell_type": "code",
   "execution_count": 16,
   "metadata": {},
   "outputs": [],
   "source": [
    "q = 1/np.sqrt(2*np.pi)\n",
    "ex = np.exp(-x^2)"
   ]
  },
  {
   "cell_type": "code",
   "execution_count": 19,
   "metadata": {},
   "outputs": [
    {
     "data": {
      "text/plain": [
       "0.0003637882707952594"
      ]
     },
     "execution_count": 19,
     "metadata": {},
     "output_type": "execute_result"
    }
   ],
   "source": [
    "q*ex"
   ]
  },
  {
   "attachments": {},
   "cell_type": "markdown",
   "metadata": {},
   "source": [
    "##  <span style=\"color:darkblue\"> III. Vector Arrays </span>"
   ]
  },
  {
   "attachments": {},
   "cell_type": "markdown",
   "metadata": {},
   "source": [
    "<font size = \"5\">\n",
    "Create an array from a list\n",
    "\n",
    "$ \\text{ }$\n",
    "$ a = \\begin{pmatrix} 1 \\\\ 2 \\\\ 3 \\end{pmatrix}\n",
    "\\qquad b = \\begin{pmatrix} 0 \\\\ 1 \\\\ 0\\end{pmatrix}\n",
    "\\qquad c = \\begin{pmatrix} 10 \\\\ 100 \\\\ 1000 \\\\ 2000 \\\\ 5000 \\end{pmatrix} \n",
    "\\qquad d = \\begin{pmatrix} 4 \\\\ 2 \\end{pmatrix} $"
   ]
  },
  {
   "cell_type": "code",
   "execution_count": 33,
   "metadata": {},
   "outputs": [],
   "source": [
    "# You create an array by converting a list [1,2,3] to a numeric object\n",
    "# \"array\" is a subfunction of the library numPy.\n",
    "\n",
    "vec_a  = np.array([1,2,3])\n",
    "vec_b  = np.array([0,1,0])\n",
    "vec_c  = np.array([10,100,1000,2000,5000])\n"
   ]
  },
  {
   "attachments": {},
   "cell_type": "markdown",
   "metadata": {},
   "source": [
    "<font size = \"5\">\n",
    "\n",
    "Accessing an element of an array"
   ]
  },
  {
   "cell_type": "code",
   "execution_count": 35,
   "metadata": {},
   "outputs": [
    {
     "name": "stdout",
     "output_type": "stream",
     "text": [
      "1\n",
      "3\n"
     ]
    }
   ],
   "source": [
    "# Arrays, like lists, start their numbering at zero.\n",
    "# You also access them with square brackets\n",
    "\n",
    "print(vec_a[0])\n",
    "print(vec_a[2])\n"
   ]
  },
  {
   "attachments": {},
   "cell_type": "markdown",
   "metadata": {},
   "source": [
    "<font size = \"5\">\n",
    "Operations with a single array and a scalar"
   ]
  },
  {
   "attachments": {},
   "cell_type": "markdown",
   "metadata": {},
   "source": [
    "<font size = \"5\">\n",
    "\n",
    "$ a + 2 = \\begin{pmatrix} a_1 + 2 \\\\ a_2 + 2 \\\\ a_3 + 2 \\end{pmatrix}$"
   ]
  },
  {
   "cell_type": "code",
   "execution_count": 36,
   "metadata": {},
   "outputs": [
    {
     "name": "stdout",
     "output_type": "stream",
     "text": [
      "[2 4 6]\n",
      "[0.5 1.  1.5]\n",
      "[3 4 5]\n",
      "[1 4 9]\n"
     ]
    }
   ],
   "source": [
    "# A scalar refers to either an int or float\n",
    "# We can do many common operations with \n",
    "\n",
    "print(vec_a * 2)\n",
    "print(vec_a / 2)\n",
    "print(vec_a + 2)\n",
    "print(vec_a ** 2)"
   ]
  },
  {
   "attachments": {},
   "cell_type": "markdown",
   "metadata": {},
   "source": [
    "<font size = \"5\">\n",
    "Element-by-element addition between two arrays of the same size\n",
    "\n",
    "$\\text{ }$\n",
    "\n",
    "$ a + b = \\begin{pmatrix} a_1 \\\\ a_2 \\\\ a_3 \\end{pmatrix} +\n",
    "          \\begin{pmatrix} b_1 \\\\ b_2 \\\\ b_3 \\end{pmatrix} =\n",
    "          \\begin{pmatrix} a_1 + b_1 \\\\ a_2 + b_2 \\\\ a_3 + b_3 \\end{pmatrix}$"
   ]
  },
  {
   "cell_type": "code",
   "execution_count": 37,
   "metadata": {},
   "outputs": [
    {
     "name": "stdout",
     "output_type": "stream",
     "text": [
      "[1 2 3]\n",
      "[0 1 0]\n"
     ]
    }
   ],
   "source": [
    "print(vec_a)\n",
    "print(vec_b)"
   ]
  },
  {
   "cell_type": "code",
   "execution_count": 38,
   "metadata": {},
   "outputs": [
    {
     "name": "stdout",
     "output_type": "stream",
     "text": [
      "[1 3 3]\n"
     ]
    }
   ],
   "source": [
    "# When you add two arrays of the same size,\n",
    "# Python adds the individual elements in each position\n",
    "\n",
    "print(vec_a + vec_b)\n"
   ]
  },
  {
   "attachments": {},
   "cell_type": "markdown",
   "metadata": {},
   "source": [
    "<font size =\"5\">\n",
    "\n",
    "The default multiplication option is element-by element:\n",
    "\n",
    "$ a * b = \\begin{pmatrix} a_1 * b_1 \\\\ a_2 * b_2 \\\\ a_3 * b_3 \\end{pmatrix}$"
   ]
  },
  {
   "cell_type": "code",
   "execution_count": 39,
   "metadata": {},
   "outputs": [
    {
     "name": "stdout",
     "output_type": "stream",
     "text": [
      "[0 2 0]\n",
      "[1 1 3]\n",
      "[inf  2. inf]\n"
     ]
    },
    {
     "name": "stderr",
     "output_type": "stream",
     "text": [
      "C:\\Users\\jjestra\\AppData\\Local\\Temp\\ipykernel_7268\\3839639845.py:6: RuntimeWarning: divide by zero encountered in divide\n",
      "  print(vec_a / vec_b)\n"
     ]
    }
   ],
   "source": [
    "# We can do other similar element-by-element operations\n",
    "# such as multiplication, subtraction, and division.\n",
    "\n",
    "print(vec_a * vec_b)\n",
    "print(vec_a - vec_b)\n",
    "print(vec_a / vec_b)\n"
   ]
  },
  {
   "attachments": {},
   "cell_type": "markdown",
   "metadata": {},
   "source": [
    "<font size = \"5\">\n",
    "Summary statistics of an array"
   ]
  },
  {
   "cell_type": "code",
   "execution_count": 40,
   "metadata": {},
   "outputs": [
    {
     "name": "stdout",
     "output_type": "stream",
     "text": [
      "2.0\n",
      "0.816496580927726\n",
      "1\n",
      "2.0\n",
      "3\n"
     ]
    }
   ],
   "source": [
    "# The function np.mean() computes the mean of an array\n",
    "# We can do similar operations for the standard deviation (std),\n",
    "# the minimum (min), the median (median), and the maximum (max).\n",
    "\n",
    "print(np.mean(vec_a))\n",
    "print(np.std(vec_a))\n",
    "print(np.min(vec_a))\n",
    "print(np.median(vec_a))\n",
    "print(np.max(vec_a))"
   ]
  },
  {
   "attachments": {},
   "cell_type": "markdown",
   "metadata": {},
   "source": [
    "<font size = \"5\">\n",
    "\n",
    "Try it yourself! Compute the mean of\n",
    "\n",
    "\n",
    "$ e = \\begin{pmatrix} 10 \\\\ 8 \\\\ 15 \\\\ 0 \\\\ 24 \\end{pmatrix} $"
   ]
  },
  {
   "cell_type": "code",
   "execution_count": 11,
   "metadata": {},
   "outputs": [],
   "source": [
    "# Create your own array and compute any of the above summary statistics\n",
    "\n",
    "\n",
    "\n",
    "\n",
    "\n"
   ]
  },
  {
   "attachments": {},
   "cell_type": "markdown",
   "metadata": {},
   "source": [
    "<font size = \"5\">\n",
    "<span style=\"color:red\"> Common Pitfall </span>: Make sure that the arrays have the same size"
   ]
  },
  {
   "cell_type": "code",
   "execution_count": 41,
   "metadata": {},
   "outputs": [
    {
     "name": "stdout",
     "output_type": "stream",
     "text": [
      "[1 2 3]\n",
      "[  10  100 1000 2000 5000]\n"
     ]
    }
   ],
   "source": [
    "print(vec_a)\n",
    "print(vec_c)"
   ]
  },
  {
   "cell_type": "code",
   "execution_count": 42,
   "metadata": {},
   "outputs": [
    {
     "data": {
      "text/plain": [
       "(3,)"
      ]
     },
     "execution_count": 42,
     "metadata": {},
     "output_type": "execute_result"
    }
   ],
   "source": [
    "vec_a.shape"
   ]
  },
  {
   "cell_type": "code",
   "execution_count": 14,
   "metadata": {},
   "outputs": [
    {
     "ename": "ValueError",
     "evalue": "operands could not be broadcast together with shapes (3,) (5,) ",
     "output_type": "error",
     "traceback": [
      "\u001b[0;31m---------------------------------------------------------------------------\u001b[0m",
      "\u001b[0;31mValueError\u001b[0m                                Traceback (most recent call last)",
      "Cell \u001b[0;32mIn[14], line 3\u001b[0m\n\u001b[1;32m      1\u001b[0m \u001b[39m# Here I try to combine two arrays of different size.\u001b[39;00m\n\u001b[0;32m----> 3\u001b[0m vec_a \u001b[39m+\u001b[39;49m vec_c\n",
      "\u001b[0;31mValueError\u001b[0m: operands could not be broadcast together with shapes (3,) (5,) "
     ]
    }
   ],
   "source": [
    "# Here I try to combine two arrays of different size.\n",
    "\n",
    "vec_a + vec_c"
   ]
  },
  {
   "attachments": {},
   "cell_type": "markdown",
   "metadata": {},
   "source": [
    "##  <span style=\"color:darkblue\"> IV. Random Numbers </span>\n",
    "\n",
    "<font size = \"5\">\n",
    "\n",
    "Why randomness?\n",
    "\n",
    "- Simulate different scenarios: high risk or low risk\n",
    "- Study properties of a complex system and/or estimator\n",
    "- In medicine, randomly assign subjects to treatment or control"
   ]
  },
  {
   "attachments": {},
   "cell_type": "markdown",
   "metadata": {},
   "source": [
    "<font size = \"5\">\n",
    "\n",
    "Create a vector of random variables"
   ]
  },
  {
   "cell_type": "code",
   "execution_count": 54,
   "metadata": {},
   "outputs": [
    {
     "name": "stdout",
     "output_type": "stream",
     "text": [
      "[-0.52003027  1.09799504  1.64555183 -1.06587779 -2.65768188  1.29829786\n",
      "  1.19253713 -0.15110899 -1.16338391  1.07802875]\n"
     ]
    }
   ],
   "source": [
    "# This code creates a vector of random variables \n",
    "# generated from a normal distribution with\n",
    "# mean \"loc\" (location) and standard deviation \"scale\"\n",
    "# the number of distinct variabels is \"size\"\n",
    "\n",
    "randomvar_a = np.random.normal(loc=0, scale=1, size=10)\n",
    "print(randomvar_a)"
   ]
  },
  {
   "attachments": {},
   "cell_type": "markdown",
   "metadata": {},
   "source": [
    "<font size = \"5\">\n",
    "\n",
    "Random numbers differ every time!\n",
    "\n",
    "- Avoid this problem by drawing from a \"pregenerated\" set.\n",
    "- This is called a seed"
   ]
  },
  {
   "cell_type": "code",
   "execution_count": 69,
   "metadata": {},
   "outputs": [
    {
     "name": "stdout",
     "output_type": "stream",
     "text": [
      "[ 1.11417929  1.44487377  0.26473752 -0.41701187 -1.71332341 -0.20751871\n",
      " -0.2088598  -1.03876599 -0.15437717 -0.67879554]\n"
     ]
    }
   ],
   "source": [
    "# Your computer will typically generate different numbers every time you run a command\n",
    "# However, sometimes you want to be able to replicate the results\n",
    "# You can choose any other number instead of \"12345\". This will produce another set\n",
    "# of random numbers, but they will give the same answers\n",
    "\n",
    "np.random.seed(10393)\n",
    "\n",
    "random_var_b = np.random.normal(loc=0, scale=1, size=10)\n",
    "print(random_var_b)"
   ]
  },
  {
   "attachments": {},
   "cell_type": "markdown",
   "metadata": {},
   "source": [
    "<font size = \"5\">\n",
    "\n",
    "Compute a histogram with the results"
   ]
  },
  {
   "cell_type": "code",
   "execution_count": 5,
   "metadata": {},
   "outputs": [
    {
     "data": {
      "text/plain": [
       "Text(0, 0.5, 'Frequency')"
      ]
     },
     "execution_count": 5,
     "metadata": {},
     "output_type": "execute_result"
    },
    {
     "data": {
      "image/png": "[encoded data removed]",
      "text/plain": [
       "<Figure size 640x480 with 1 Axes>"
      ]
     },
     "metadata": {},
     "output_type": "display_data"
    }
   ],
   "source": [
    "# Compute a histogram\n",
    "# You can edit the number of bins with plt.hist(x = randomvar_a)\n",
    "\n",
    "randomvar_x = np.random.normal(loc=0, scale=1, size=10)\n",
    "\n",
    "plt.hist(x = randomvar_x)\n",
    "plt.xlabel(\"Variable a\")\n",
    "plt.ylabel(\"Frequency\")"
   ]
  },
  {
   "attachments": {},
   "cell_type": "markdown",
   "metadata": {},
   "source": [
    "<font size = \"5\">\n",
    "\n",
    "Try this again with $size = 100, 1000, 10000$"
   ]
  },
  {
   "cell_type": "code",
   "execution_count": 9,
   "metadata": {},
   "outputs": [
    {
     "name": "stdout",
     "output_type": "stream",
     "text": [
      "[ 2.49649735  0.1103631   0.79408321  0.92213451 -2.17165963  0.06663958\n",
      " -0.14609236  1.37767911 -0.37071917  0.04505631]\n",
      "[ 0.09911096 -0.0328022  -0.61673773 -1.66642601 -1.04842243 -2.00259705\n",
      "  1.06847293 -0.50882035  1.852566    0.241511    0.36025714 -0.34894847\n",
      " -1.73272873 -2.76314639  1.40224229 -0.6041947  -0.5514718  -0.72516406\n",
      " -0.15560959  1.20093351  1.35258157 -1.50905685  0.12829723 -1.0985873\n",
      " -1.84826968  0.25317392  0.88072008  0.92063816 -0.7444431   0.01031097\n",
      "  0.60336886 -0.40244786 -0.67203583  0.63967172 -1.09167554  0.29312837\n",
      " -1.08882089 -0.74884649 -1.08235936  0.27028427 -0.60756329  0.05435361\n",
      "  1.2635118  -0.05044328 -1.01608919 -0.32997038  1.62345647 -1.22534034\n",
      " -0.37258972 -0.70604562  0.12554461 -0.76733094 -0.90710466  0.35357907\n",
      "  0.66433244 -1.38350559 -0.28086718  0.36954259  0.16213176  0.32292004\n",
      "  0.53955718  0.05270554 -0.18444811 -0.48538372  0.7534351   0.52928812\n",
      "  0.6231248  -1.29676073 -1.44022112  2.20047308 -0.19090002  0.71131117\n",
      " -0.050839    0.69429924  0.26853288 -0.25244478  0.36030061 -0.05486331\n",
      "  0.03844473 -0.73823391 -0.60923301 -0.49975925 -1.04290314 -0.85046445\n",
      " -0.45419824 -1.20433265 -0.32070872 -1.629719    1.0127242   1.5446257\n",
      "  1.74665917  2.17930906 -0.21214323 -0.84570979 -1.44384727  0.24486007\n",
      "  0.51748406  2.32744234  1.90881003 -0.57448691]\n",
      "[ 7.33649699e-01  1.02784844e+00  7.57180355e-01  9.13691508e-01\n",
      " -6.96537594e-01  2.47312634e+00  1.07769146e+00  1.33151299e+00\n",
      " -2.03935111e+00  2.42578548e-01 -1.33044161e-01 -2.98493615e-01\n",
      "  1.02007026e+00  2.39432317e+00  7.49312811e-01  4.50476906e-01\n",
      "  1.35917029e+00 -6.62887416e-01 -5.44752221e-03 -3.88404628e-01\n",
      "  1.09348476e+00 -1.89375218e+00  1.29012011e-01 -4.17792133e-01\n",
      " -3.43046226e-02  1.22599064e-02 -5.20740867e-01  3.29623572e-01\n",
      " -8.52072728e-01  1.53994258e+00 -9.66731715e-01 -3.18078051e-01\n",
      "  1.90296215e+00  2.37881969e-01 -5.50078283e-01  6.61572901e-02\n",
      "  1.54669373e-01 -1.31804964e+00  7.96040348e-02  2.76958252e-01\n",
      "  1.93955760e-01  3.02898557e-02  1.05700963e+00  4.54534266e-01\n",
      " -1.57138446e+00  2.25071576e-01 -6.52059598e-01 -3.11667110e-01\n",
      "  9.18459287e-01 -1.43484496e+00  1.71555937e+00  1.63599755e+00\n",
      " -1.03546494e+00  2.02268404e-01  3.40685614e-01 -1.42717417e+00\n",
      "  5.80085144e-01  1.05725195e+00  3.21751760e-02 -9.98107017e-01\n",
      "  1.13450060e+00  2.85233521e-02 -3.45706148e-02  7.31526035e-02\n",
      " -7.28061536e-02  2.04337064e-01 -1.69352531e-01 -1.20901428e+00\n",
      " -1.37039902e+00  6.83277865e-01  6.21506625e-01 -3.75713505e-03\n",
      " -1.66377607e-01  3.81637634e-01 -1.76889204e-01 -2.22300224e+00\n",
      "  4.64085193e-01  1.39769970e+00  1.19708804e-01 -5.59660625e-02\n",
      "  5.04090790e-01 -2.25647717e+00  7.11798183e-01 -6.67670039e-01\n",
      " -8.57531423e-02 -7.33038942e-01  2.15298075e-01 -1.00674420e+00\n",
      "  1.15712310e+00 -1.95688095e+00 -1.16046352e-01 -1.10599317e+00\n",
      " -1.11088717e+00 -5.13279241e-01 -6.76932502e-01  1.01952814e+00\n",
      " -8.43277214e-01 -2.60330760e+00  1.05498534e+00 -1.57452556e-01\n",
      " -1.16622306e+00  1.67260215e+00 -9.14080634e-01  1.01007599e+00\n",
      " -4.39544499e-01  3.99188620e-01  1.63151082e-01  5.78647399e-01\n",
      " -1.26779074e+00  3.85242312e-01  1.25226262e+00 -6.84279858e-01\n",
      " -7.54122351e-01 -4.13629199e-01  1.18949283e-01  3.29369045e-02\n",
      "  1.62006414e+00 -1.62089509e+00 -6.91737525e-01 -2.44815951e-01\n",
      "  8.29518088e-01  1.48363778e-01 -1.46890354e+00 -1.76951930e+00\n",
      " -2.52094107e+00 -1.20017531e-01 -8.49239351e-01  7.85118505e-01\n",
      "  2.77041962e+00  4.18874151e-01 -7.75638789e-01  8.50621309e-01\n",
      "  1.04686022e+00  6.67332439e-01  3.91125526e-02  1.65803990e-01\n",
      "  6.95424931e-01 -6.05970831e-01 -8.51494695e-01  1.19905533e+00\n",
      " -3.23994395e+00  1.95875957e+00 -1.16263841e+00 -5.42116923e-01\n",
      "  1.04926552e+00 -8.63705347e-01  6.46530883e-01 -1.37719798e+00\n",
      "  3.80296865e-01 -2.07809133e+00 -1.78177556e+00 -6.98735086e-01\n",
      "  6.17425097e-01  1.50795583e+00  5.19214099e-01 -9.20743627e-01\n",
      " -7.10237889e-01 -4.54150759e-01 -6.67166714e-02  1.12049095e+00\n",
      " -9.96321957e-01 -4.21277320e-01 -7.03071965e-01  1.87951016e+00\n",
      "  2.97520428e-01  4.80125684e-01 -4.96237848e-01  4.41990337e-02\n",
      "  8.54775436e-01  1.88045166e-01 -5.97370890e-01 -1.41197400e+00\n",
      "  1.37799885e+00 -8.03743454e-02  8.16124423e-01  1.09518426e+00\n",
      "  2.98729947e-01 -1.17097369e+00  5.45187912e-01 -1.03736851e-01\n",
      "  3.97532652e-01  7.55534860e-01  2.10029883e-01 -7.39800671e-01\n",
      "  6.73526258e-01 -2.02856709e+00 -6.94284812e-01 -7.14318657e-02\n",
      " -1.47700943e+00 -3.76050056e-01  3.32901945e-01 -1.72900878e-01\n",
      "  3.16979491e-03  4.45570571e-01  2.23068522e+00  2.33625687e+00\n",
      "  3.57130639e-01  3.55614910e-01  2.80201253e-02 -5.50956133e-01\n",
      "  1.67682323e+00  3.05740823e-01 -2.36805275e-01  1.03462218e+00\n",
      " -6.00235997e-01 -1.02743488e-01 -2.81552280e+00 -1.91169027e-01\n",
      " -8.42736907e-01 -1.50821973e+00 -2.85746783e-01 -8.50465023e-01\n",
      " -1.36722790e+00  1.77236177e+00 -3.56135135e-01  1.00575883e+00\n",
      "  1.13851104e+00  1.66984340e+00 -7.53345430e-01  9.54894999e-01\n",
      " -7.58487967e-01 -2.85436962e-01  7.21907315e-01 -1.00765004e+00\n",
      "  2.01226077e-01 -6.10562322e-01 -1.28858078e+00 -2.67546586e-01\n",
      "  9.35741231e-01  1.58573041e+00  2.15941669e-02 -3.31561078e-02\n",
      " -1.99057758e+00 -1.69726682e-01 -1.25952615e-01  2.15892104e-02\n",
      " -4.45425772e-01 -2.31960143e+00 -1.18277555e+00  4.59856675e-01\n",
      "  1.50001351e+00  1.04982301e+00 -1.37129111e+00  1.65194876e+00\n",
      "  4.98338637e-01  4.31721528e-01 -2.04364876e-01  2.57774524e-01\n",
      "  1.62912238e+00  1.51415138e-01 -2.06034768e+00 -1.78668792e+00\n",
      " -1.54410068e+00 -1.19250335e+00 -2.62688516e-01  1.55806028e+00\n",
      " -6.88940277e-01  1.13743662e+00 -1.25540495e+00  8.22884113e-01\n",
      " -1.07834525e+00 -1.06288809e+00  5.65385406e-01  1.08377892e+00\n",
      " -9.27668447e-01  1.58445610e+00 -1.19301960e+00  2.17045414e-01\n",
      "  7.00218463e-01  1.34016022e+00  1.58248364e-02  3.04722072e-01\n",
      " -9.26599701e-01  1.01939282e+00 -1.11648971e+00 -4.50041251e-01\n",
      "  4.86447849e-01 -4.26536492e-01  8.45649716e-01  9.64979332e-01\n",
      "  3.92265404e-02 -1.09142933e+00 -1.98337412e-01 -3.80883738e-01\n",
      " -5.21480346e-01 -4.44581700e-01 -8.17101136e-01 -7.24423913e-01\n",
      " -1.41336684e+00 -4.41874591e-01  2.25496812e+00  5.45442973e-01\n",
      "  7.37604628e-01 -1.62158040e+00 -7.64742284e-01 -1.13840885e+00\n",
      "  1.43459431e-01  1.11028045e+00  2.82066574e-01 -5.72379052e-01\n",
      " -3.75615399e-01  4.15973205e-01 -2.42166801e-01 -2.31806381e-01\n",
      "  6.43861990e-01 -1.61459424e-01  5.89842007e-01 -2.75004550e+00\n",
      " -5.83512032e-01  1.83677541e+00 -9.46243870e-01 -8.99111217e-02\n",
      " -1.95569292e+00  3.69302518e-01  1.02029981e-02  2.96866310e-01\n",
      " -4.85579720e-02  4.68347150e-01 -1.50234263e+00 -1.60906418e+00\n",
      " -8.98368624e-01 -1.92523518e-03 -1.04072654e+00  1.00735799e+00\n",
      " -1.94567700e+00 -1.39638144e-01 -3.75401364e-01 -2.17445252e+00\n",
      "  8.69373611e-01 -5.14052810e-01  5.22145601e-01  1.72818905e+00\n",
      "  5.65323164e-01  2.34761321e+00 -1.07951819e+00 -6.66594458e-02\n",
      "  1.61834019e-01  3.85352791e-03 -2.92441672e-01 -2.03589575e+00\n",
      " -1.39312501e-01  7.34751523e-01 -1.22290681e+00  1.64071490e+00\n",
      "  7.69194116e-01  2.60757272e-02 -1.25792802e+00 -6.18845605e-01\n",
      "  6.74099792e-01 -1.11463853e-01  9.66650609e-02  1.26975399e+00\n",
      " -1.80812518e+00  4.27970629e-01 -1.29043196e+00  1.27606784e-01\n",
      "  1.55079243e+00 -1.30973144e+00  2.83254681e-01 -8.73452261e-01\n",
      "  1.30095646e+00 -8.57440527e-01  6.09614989e-01 -5.39241837e-02\n",
      " -7.01498310e-01 -2.04019618e-01  1.06014463e+00  3.28755914e-01\n",
      " -7.00803004e-01  1.12070494e-01  7.00446744e-01  1.89936543e+00\n",
      "  8.78469768e-01 -4.82155859e-01  1.27338574e-02 -5.72255896e-01\n",
      "  2.12976067e+00  1.56756395e+00  1.79355409e+00  3.47421478e-01\n",
      "  2.15636592e+00 -4.66823217e-01 -2.01014081e-01  1.06789107e+00\n",
      "  2.27901655e-02 -1.13467394e+00  2.20555076e-01  2.04089317e+00\n",
      " -2.99774758e-01  9.53102175e-01  1.41554874e+00 -2.36854435e-01\n",
      " -2.66174197e+00  5.23796722e-01 -3.45590329e-01 -2.19821468e+00\n",
      " -1.02484537e+00  8.90152224e-01  7.16037130e-01  1.25914236e+00\n",
      " -1.08368041e+00  1.56480355e+00 -1.67944323e-01  8.74767614e-01\n",
      " -1.99927302e+00 -5.84527904e-01 -1.23371015e+00  1.01397108e+00\n",
      "  9.11123534e-01  3.69532325e-02  1.41717969e-02  7.21789181e-01\n",
      "  1.19772988e+00 -3.92498907e-01 -3.32692206e-01 -8.99294970e-01\n",
      " -5.59777785e-01 -1.02613496e-01 -1.84103267e+00 -1.89822147e-01\n",
      " -1.58027855e+00 -1.27111994e+00  1.45614872e+00 -9.36482345e-01\n",
      " -8.44162510e-01 -1.95391765e+00 -4.95348910e-02 -9.00340325e-02\n",
      " -9.46113907e-01  1.48619309e-01  2.16872830e+00 -7.35484055e-01\n",
      "  2.77745978e+00  1.77728371e+00 -1.22997176e+00 -1.08596826e-01\n",
      " -7.22923044e-01  9.22563086e-01  1.12230125e-01  9.39467482e-01\n",
      "  1.22147803e+00 -3.61979698e-01  3.03319098e-01 -2.49129532e-01\n",
      " -1.56696721e+00 -7.40852498e-01  1.80666615e+00  2.05209918e-01\n",
      " -6.17377659e-01  2.97100308e-01  4.38189823e-01  2.12862125e-02\n",
      " -2.12030390e-01  1.14236852e+00  3.85283035e-01  3.84871309e-01\n",
      " -5.21935117e-01  3.48636765e-02  1.19001106e+00  3.74715152e-01\n",
      " -1.79275105e+00  4.04630927e-01  9.42448350e-01  3.84591736e-01\n",
      "  1.10193642e+00 -5.70589774e-01 -4.13066287e-01 -1.88050206e+00\n",
      "  5.60315998e-01 -4.82017138e-01 -3.54206829e-01  2.72691447e+00\n",
      "  1.12118994e+00 -3.40979239e-01  6.03789069e-02  1.70382170e+00\n",
      "  9.09556049e-01 -1.63466238e-01 -5.07420986e-01  9.93074095e-01\n",
      "  1.31743419e+00  1.62130034e+00  5.72541451e-01 -1.08547058e+00\n",
      "  8.87399472e-02 -1.27276665e-01 -4.91744875e-01  3.03492854e-01\n",
      " -5.42818153e-01 -5.16274207e-01  7.01666062e-01 -3.43731531e-01\n",
      "  1.46936455e+00 -7.48209450e-01  1.19142683e+00 -8.31159726e-01\n",
      "  1.68412720e+00 -3.33208162e-01  1.20309162e+00 -9.10784926e-01\n",
      "  4.49292672e-01  1.40388021e+00  1.22058557e+00 -3.02586682e-01\n",
      "  2.03486846e+00 -1.05933776e+00  1.31732760e+00 -2.60886173e-01\n",
      "  4.03291114e-01 -3.43434466e-02  6.07243830e-01 -1.43047534e+00\n",
      " -4.30011427e-01 -5.36228843e-01  1.85079162e+00 -1.11832867e+00\n",
      "  2.72847371e+00  5.03400459e-01 -8.24359469e-01  1.79244206e+00\n",
      " -2.03190385e-01 -4.88384689e-01 -6.59012890e-01  4.16480286e-01\n",
      " -1.95716763e+00  1.36396311e+00  1.91074257e+00  1.00003043e-01\n",
      "  8.60160917e-01  2.59807120e-01  5.12877446e-01  7.78281241e-01\n",
      "  7.99537109e-01 -1.25070770e+00 -1.73475604e-01 -7.93308484e-01\n",
      "  1.49608228e+00  3.12580918e-01  2.33953089e+00  3.98782285e-01\n",
      "  8.46662768e-02  6.64257803e-01 -1.32065544e+00  3.79780618e-01\n",
      "  1.42508334e-01  3.43438691e-01 -1.06594781e+00  3.95344588e-01\n",
      " -5.85623138e-01  1.05316740e-01 -1.52173973e+00  7.75930043e-01\n",
      " -3.22658535e-01 -5.78462923e-01 -1.22722526e-01  1.43362950e+00\n",
      " -6.85398287e-01 -8.06996976e-01  1.02511633e-01  6.15338576e-01\n",
      " -8.22662815e-01  4.55192203e-01  5.69791570e-01 -4.61338200e-01\n",
      " -5.83262573e-01 -3.46479619e-01 -1.51592513e+00  8.62363911e-01\n",
      "  7.70445543e-01  3.11251917e-01 -9.27432816e-01 -1.09227314e+00\n",
      " -5.66581116e-01  5.88691581e-01  1.86309583e+00  1.00253674e-01\n",
      " -2.47507928e-01 -2.40767642e-01  3.33481547e-01 -5.61223035e-01\n",
      " -2.49092004e+00 -2.75359307e-01 -1.31462032e+00 -2.09350225e-01\n",
      "  4.54354767e-01 -2.90647255e-01 -1.38589079e+00 -1.29893624e-02\n",
      " -5.06263570e-01  7.41007881e-01  1.14427032e+00 -2.21159062e-01\n",
      "  3.16838532e-01  1.18371079e+00 -1.40009821e+00  6.06726758e-01\n",
      "  1.04501559e-01 -1.96469561e-01  2.01598212e-01  1.24546845e+00\n",
      "  7.41515020e-01 -1.94687650e-01  1.81046073e-01  4.93958650e-01\n",
      " -9.52438104e-01  2.01172903e-01 -2.88813695e+00  9.23079082e-01\n",
      "  1.69709443e-01 -8.91011428e-01  1.97308513e-02  8.40749705e-01\n",
      "  7.87474944e-02 -6.10315816e-01  3.48209914e-02  2.10737701e-01\n",
      " -3.91257177e-01 -1.32960485e+00 -4.41046467e-01 -3.05416386e-01\n",
      "  1.57288025e+00  5.05071263e-01 -2.97848284e-01  1.70353551e-01\n",
      "  1.91974540e-01  6.45543915e-01 -4.98370672e-01  1.62807290e+00\n",
      " -3.58102180e-01  1.67587924e+00 -6.81741402e-01  2.55693595e-01\n",
      " -2.88091107e-01 -6.52941169e-01  2.02819573e+00  3.09433809e-01\n",
      " -3.86607584e-01 -1.56491743e+00  2.33804479e-01 -6.84813274e-01\n",
      "  7.64742227e-01  4.08317862e-01 -1.03959806e-01 -7.22115448e-01\n",
      "  2.70202098e-01 -5.52669764e-01  6.46956932e-01 -1.46614171e+00\n",
      "  4.26793286e-01  6.19942057e-01  2.69490218e-01 -1.26244374e+00\n",
      " -2.34953441e+00 -4.13425123e-01 -6.77563476e-01  1.34811427e+00\n",
      " -4.65946917e-01 -1.68236632e+00 -1.53811026e+00 -5.77311109e-01\n",
      " -8.96785317e-01 -6.49597984e-01 -6.14360237e-01  1.05931607e+00\n",
      " -2.26786538e-01  5.83697230e-01  6.20860773e-01 -1.93115917e+00\n",
      "  1.52984676e+00 -1.47097391e+00  2.54435636e-01  1.56484744e+00\n",
      " -1.04481860e+00 -8.15230372e-01 -5.53607366e-01  8.31863343e-01\n",
      "  1.21242259e+00  3.82943031e-01  1.22647286e+00  5.40850451e-01\n",
      "  6.23648356e-01 -8.62766544e-01  8.53464276e-01  8.75014896e-01\n",
      "  3.91192001e-01  1.61307312e+00  2.69974599e-01  7.01205177e-01\n",
      "  7.02857543e-01 -1.53170357e-01  3.42040242e-01 -9.06275998e-02\n",
      "  1.07452259e+00  1.35200470e+00  2.30694154e+00  1.04759546e+00\n",
      "  1.50708272e+00  1.17807618e-01 -3.17031607e-01 -2.46913093e-01\n",
      " -9.02090878e-01 -8.87072910e-01 -1.39470447e-01 -1.01159930e+00\n",
      "  1.09543660e+00 -5.68539441e-01  1.79662713e+00 -1.19165299e+00\n",
      "  1.18605117e+00 -2.60034038e-01 -5.53119154e-01 -6.29931801e-02\n",
      " -1.29827501e-01  1.19588623e+00  1.87769778e+00 -7.37390832e-01\n",
      " -1.93895328e-03 -5.16803481e-01 -3.25819716e-01 -1.99477343e+00\n",
      "  1.49207539e+00  7.84217597e-01 -1.28207344e+00  3.38495621e-01\n",
      "  3.91279880e-02 -2.30370325e-01  1.64171388e-01 -4.98791974e-02\n",
      " -1.42147207e+00 -2.86347090e-01  3.29303670e-01  1.01614002e+00\n",
      " -4.12057456e-01 -8.54638964e-01  2.53847277e-01 -2.49670444e+00\n",
      "  6.62412882e-01  2.45576742e-01 -7.58153874e-01  7.52834155e-02\n",
      " -9.62889120e-01 -8.17433851e-01  2.21969655e-01  1.76984642e-01\n",
      " -1.50372913e+00  6.71859045e-01 -1.31634614e+00 -4.28572250e-01\n",
      " -5.80762265e-02  7.29768760e-02 -4.24730054e-02 -2.69557133e+00\n",
      "  1.90329340e+00  2.28087257e-01  5.38556833e-01 -2.63863534e-01\n",
      " -1.74963265e+00  1.49355270e+00 -1.45250080e+00  3.73852276e-01\n",
      "  1.22167336e+00 -8.29989557e-01  1.01860915e+00 -9.49876822e-01\n",
      " -2.75506061e-01  2.19552025e-01  2.09751717e+00 -1.14210490e+00\n",
      "  7.68129529e-01 -1.33096777e+00 -1.08227909e+00  1.12643116e+00\n",
      "  1.89066675e+00 -2.55104069e-01 -4.50398506e-02 -5.70694018e-01\n",
      "  4.00129380e-01  1.90356838e-01  6.03712548e-01  2.22107481e+00\n",
      "  4.36833421e-01 -2.40038228e+00  2.23396629e-01 -1.17235907e+00\n",
      "  4.52448337e-01  1.92513151e+00 -2.19442697e-01  7.27364640e-01\n",
      " -3.45473032e-01 -6.11656112e-02 -6.13129639e-01  2.04848447e-01\n",
      " -4.24775583e-01  7.04401715e-01  1.24335276e+00 -3.62812965e-01\n",
      " -1.79942773e+00 -1.22801809e+00  1.38557362e+00  1.08704515e-02\n",
      "  8.48982814e-01 -1.68440951e-02 -1.52631433e-01 -1.36334941e+00\n",
      "  8.93188996e-01 -5.07975049e-02  2.88044116e-01 -1.67504284e+00\n",
      "  2.17362757e-01 -1.56368375e+00 -9.68526636e-01 -1.65825278e+00\n",
      " -1.10249038e-01 -1.03844309e+00 -2.47881040e-02 -4.91676398e-01\n",
      " -8.59925619e-01 -1.47865709e-01  1.17548735e+00  5.88156413e-03\n",
      " -6.82077726e-01 -4.44409899e-01 -4.59377667e-01 -3.40315211e-01\n",
      " -1.86208236e+00 -2.16570395e+00  4.69394665e-01 -1.04421947e+00\n",
      " -1.08190253e+00  7.12937652e-01  2.74794180e-01 -4.69765428e-01\n",
      " -1.17405522e+00  7.59377027e-01 -7.23770646e-01 -1.33083954e+00\n",
      "  2.77444674e-01 -1.14094760e+00  2.10833254e+00 -2.92832261e-01\n",
      " -6.86818256e-02  1.54360993e+00 -8.46332984e-01 -4.33767876e-01\n",
      "  8.03880476e-01  7.85535184e-02 -1.67494551e+00  3.29965834e-01\n",
      " -4.64985262e-01  6.40877991e-01  3.05606528e-01 -1.02898131e-01\n",
      "  8.41079224e-01  1.84913274e+00 -1.47736805e+00  1.63544945e+00\n",
      "  1.34000298e+00  3.14489840e-01 -1.45340123e-01  4.34631066e-01\n",
      "  2.42748859e-01  7.80501578e-01  8.86221682e-01 -6.11049058e-01\n",
      "  5.94868738e-01  4.03782008e-02 -9.84826840e-01  1.07074798e+00\n",
      "  1.31072514e+00  1.75765122e+00  9.50748588e-01 -3.18564442e-02\n",
      " -1.06531490e+00  2.56323659e-01  7.91332282e-01  4.54838146e-01\n",
      " -4.80904857e-01  2.16916500e-01 -9.72187142e-02  1.96356859e-01\n",
      " -8.43748533e-01  1.09081482e+00  1.36098706e+00 -9.92799628e-01\n",
      "  7.08985747e-01 -6.48027837e-01 -1.57259896e+00  1.90125170e-01\n",
      " -2.90440970e+00  9.18861801e-02  4.34549203e-01  1.87055360e-01\n",
      "  1.26406011e+00 -2.98137849e-01 -1.38385844e+00  1.85076351e+00\n",
      " -7.62346778e-02  2.72114644e-01 -3.32705050e-01  9.39253230e-01\n",
      "  1.54413266e+00 -7.10225218e-01  1.31977307e+00  6.94387125e-01\n",
      "  4.12491103e-01  5.65297281e-01  1.24839103e+00  1.79683128e-01\n",
      " -2.66441808e-01  1.85913758e-01 -4.14353707e-01 -2.13555324e-01\n",
      "  2.83459652e-02 -1.10291442e+00  9.64668751e-01 -1.56717979e-01\n",
      "  1.73485185e+00  7.45379887e-01 -5.69256836e-01 -4.89968414e-01\n",
      "  1.33532167e+00 -1.75310614e-01  1.49974888e+00  3.50791971e-01\n",
      " -1.55043608e+00  3.18957149e-01 -2.53276639e+00  2.39425922e+00\n",
      "  1.71042262e+00  2.20717963e-01 -2.08326889e-01  2.31782786e-01\n",
      "  4.97166890e-01 -1.15070126e+00  5.80143194e-01  1.25592150e+00\n",
      "  4.07265579e-01  2.41063074e-01 -9.97848185e-01 -6.73661522e-01\n",
      "  1.46914893e-01  1.95127378e-01  6.41329150e-02 -3.26014305e-01\n",
      "  9.97170736e-01  8.16765427e-01  7.32630566e-01  3.65976441e-02\n",
      " -5.21429852e-01  8.27988771e-02 -1.74242357e+00 -2.70640941e-01\n",
      "  1.42551763e-01 -1.79396364e-01 -2.13838357e+00 -1.56280732e+00\n",
      " -4.73624520e-01 -3.69556110e-01 -2.41927092e-01 -1.85304667e+00\n",
      "  2.74818703e-01  2.99396967e-02  5.91347448e-01  1.03278078e+00\n",
      " -1.56453043e-02 -1.36228907e+00  2.64165662e-01 -3.51265360e-01\n",
      " -1.52896567e+00  1.97154840e-01  9.98650547e-01  1.76641676e+00\n",
      " -1.24759805e+00 -6.56971724e-01 -5.91444974e-02 -1.38845994e+00\n",
      "  6.01122999e-01  6.61085476e-01  1.21051933e-01 -5.90539351e-01\n",
      "  5.31141640e-02  9.43872784e-01 -2.56250342e-01  1.00954081e+00\n",
      " -5.89759953e-01  5.57038809e-01 -1.39081478e+00 -2.92412517e-01\n",
      "  1.17726425e+00  5.53476109e-01 -3.08474943e-01 -1.35162460e-01\n",
      "  6.58320075e-01 -1.57540534e+00  5.75899687e-01 -7.21201281e-01\n",
      " -1.13752830e+00 -1.86055200e+00  1.35449621e+00 -8.56202859e-01]\n"
     ]
    },
    {
     "data": {
      "text/plain": [
       "Text(0, 0.5, 'Frequency')"
      ]
     },
     "execution_count": 9,
     "metadata": {},
     "output_type": "execute_result"
    },
    {
     "data": {
      "image/png": "[encoded data removed]",
      "text/plain": [
       "<Figure size 640x480 with 1 Axes>"
      ]
     },
     "metadata": {},
     "output_type": "display_data"
    }
   ],
   "source": [
    "# Write the code for your histogram\n",
    "\n",
    "randomvar_x = np.random.normal(loc=0, scale=1, size=10)\n",
    "print(randomvar_x)\n",
    "\n",
    "randomvar_y = np.random.normal(loc=0, scale=1, size=100)\n",
    "print(randomvar_y)\n",
    "\n",
    "randomvar_z = np.random.normal(loc=0, scale=1, size=1000)\n",
    "print(randomvar_z)\n",
    "\n",
    "plt.hist(x = randomvar_x)\n",
    "plt.xlabel(\"Variable a\")\n",
    "plt.ylabel(\"Frequency\")\n",
    "\n",
    "plt.hist(x = randomvar_y)\n",
    "plt.xlabel(\"Variable a\")\n",
    "plt.ylabel(\"Frequency\")\n",
    "\n",
    "plt.hist(x = randomvar_z)\n",
    "plt.xlabel(\"Variable a\")\n",
    "plt.ylabel(\"Frequency\")\n",
    "\n"
   ]
  },
  {
   "attachments": {},
   "cell_type": "markdown",
   "metadata": {},
   "source": [
    "# <span style=\"color:darkblue\"> Additional Resources </span>\n",
    "\n",
    "<font size=\"5\"> \n",
    "\n",
    "Check out additional examples at:\n",
    "\n",
    "- https://allendowney.github.io/ElementsOfDataScience/03_arrays.html\n",
    "\n",
    "\n"
   ]
  },
  {
   "attachments": {},
   "cell_type": "markdown",
   "metadata": {},
   "source": [
    "# <span style=\"color:darkblue\"> (Optional) Matrix Operations </span>\n",
    "\n",
    "<font size=\"5\"> \n"
   ]
  },
  {
   "attachments": {},
   "cell_type": "markdown",
   "metadata": {},
   "source": [
    "<font size = \"5\">\n",
    "Creating a matrix by stacking different rows\n",
    "\n",
    "$ \\text{ }$\n",
    "\n",
    "$ X = \\begin{pmatrix} 1 & 2 & 3 \\\\ \n",
    "                       0 & 4 & 5 \\\\\n",
    "                       0 & 0 & 6\n",
    "                       \\end{pmatrix} $"
   ]
  },
  {
   "cell_type": "code",
   "execution_count": 81,
   "metadata": {},
   "outputs": [
    {
     "name": "stdout",
     "output_type": "stream",
     "text": [
      "[[1 2 3]\n",
      " [0 4 5]\n",
      " [0 0 6]]\n"
     ]
    }
   ],
   "source": [
    "# Matrices are usually denoted by capital letters\n",
    "# The object [[1,2,3],[4,5,6],[7,8,9]] is a list of lists\n",
    "# It's useful to maintain this notation in the code as well\n",
    "\n",
    "X = np.array([[1,2,3],[0,4,5],[0,0,6]])\n",
    "print(X)"
   ]
  },
  {
   "attachments": {},
   "cell_type": "markdown",
   "metadata": {},
   "source": [
    "<font size = \"5\">\n",
    "Creating a matrix by stacking different columns\n",
    "\n",
    "$ \\text{ } $\n",
    "\n",
    "$ Y = \\begin{pmatrix} 1 & 2 \\\\ 0 & 1 \\\\ 1 & 0 \\end{pmatrix}$"
   ]
  },
  {
   "cell_type": "code",
   "execution_count": 14,
   "metadata": {},
   "outputs": [
    {
     "name": "stdout",
     "output_type": "stream",
     "text": [
      "[[1 2]\n",
      " [0 1]\n",
      " [1 0]]\n"
     ]
    }
   ],
   "source": [
    "# You can also stack columns\n",
    "Y =  np.column_stack([[1,0,1],[2,1,0]])\n",
    "print(Y)"
   ]
  },
  {
   "attachments": {},
   "cell_type": "markdown",
   "metadata": {},
   "source": [
    "<font size = \"5\">\n",
    "Transpose\n",
    "\n",
    "$ \\text{ }$\n",
    "\n",
    "$ Y' = \\begin{pmatrix}  1 & 0 & 1 \\\\ 2 & 1 & 0  \\end{pmatrix} $"
   ]
  },
  {
   "cell_type": "code",
   "execution_count": 15,
   "metadata": {},
   "outputs": [
    {
     "data": {
      "text/plain": [
       "array([[1, 0, 1],\n",
       "       [2, 1, 0]])"
      ]
     },
     "execution_count": 15,
     "metadata": {},
     "output_type": "execute_result"
    }
   ],
   "source": [
    "# Matrix Transpose\n",
    "np.matrix.transpose(Y)"
   ]
  },
  {
   "attachments": {},
   "cell_type": "markdown",
   "metadata": {},
   "source": [
    "<font size = \"5\">\n",
    "\n",
    "Matrix multiplication\n",
    "\n",
    "$ XY = \\begin{pmatrix} 1 & 2 & 3 \\\\ \n",
    "                       0 & 4 & 5 \\\\\n",
    "                       0 & 0 & 6\n",
    "                       \\end{pmatrix}\n",
    "                       \\begin{pmatrix} 1 & 2 \\\\ 0 & 1 \\\\ 1 & 0 \\end{pmatrix} = \n",
    "        \\begin{pmatrix} 4 & 4 \\\\ 5 & 4 \\\\ 6 & 0 \\end{pmatrix} $"
   ]
  },
  {
   "cell_type": "code",
   "execution_count": 34,
   "metadata": {},
   "outputs": [
    {
     "data": {
      "text/plain": [
       "array([[4, 4],\n",
       "       [5, 4],\n",
       "       [6, 0]])"
      ]
     },
     "execution_count": 34,
     "metadata": {},
     "output_type": "execute_result"
    }
   ],
   "source": [
    "# Matrix Multiplication\n",
    "\n",
    "np.dot(X,Y)\n",
    "\n",
    "np.matmul(X,Y)"
   ]
  },
  {
   "attachments": {},
   "cell_type": "markdown",
   "metadata": {},
   "source": [
    "<font size = \"5\">\n",
    "\n",
    "Matrix inverse\n",
    "\n",
    "$ X^{-1} = \\begin{pmatrix} 1 & 2 & 3 \\\\ \n",
    "                       0 & 4 & 5 \\\\\n",
    "                       0 & 0 & 6\n",
    "                       \\end{pmatrix}^{-1} $"
   ]
  },
  {
   "cell_type": "code",
   "execution_count": 31,
   "metadata": {},
   "outputs": [
    {
     "name": "stdout",
     "output_type": "stream",
     "text": [
      "23.999999999999993\n",
      "[[ 1.         -0.5        -0.08333333]\n",
      " [ 0.          0.25       -0.20833333]\n",
      " [ 0.          0.          0.16666667]]\n",
      "[[ 1.00000000e+00  0.00000000e+00 -2.22044605e-16]\n",
      " [ 0.00000000e+00  1.00000000e+00  0.00000000e+00]\n",
      " [ 0.00000000e+00  0.00000000e+00  1.00000000e+00]]\n"
     ]
    }
   ],
   "source": [
    "# Check the determinant of a matrix (a matrix is invertible if the determinant is not zero)\n",
    "print(np.linalg.det(X))\n",
    "\n",
    "# Matrix inverse\n",
    "# The following command stands for linear algebrar inverse.\n",
    "X_inv = np.linalg.inv(X)\n",
    "\n",
    "# Output the result\n",
    "print(X_inv)\n"
   ]
  },
  {
   "attachments": {},
   "cell_type": "markdown",
   "metadata": {},
   "source": [
    "<font size = \"5\">\n",
    "\n",
    "Try it yourself! Check that this is indeed an inverse:\n",
    "\n",
    "$X X_{inv} = \\begin{pmatrix} 1 & 0 & 0 \\\\ 0 & 1 & 0 \\\\ 0 & 0 & 1 \\end{pmatrix}$"
   ]
  },
  {
   "cell_type": "code",
   "execution_count": 32,
   "metadata": {},
   "outputs": [
    {
     "name": "stdout",
     "output_type": "stream",
     "text": [
      "[[ 1.00000000e+00  0.00000000e+00 -2.22044605e-16]\n",
      " [ 0.00000000e+00  1.00000000e+00  0.00000000e+00]\n",
      " [ 0.00000000e+00  0.00000000e+00  1.00000000e+00]]\n"
     ]
    }
   ],
   "source": [
    "# Multiply \"X\" times \"X_inv\" using the command shown above\n",
    "# Note: Sometimes the result is shown in scientific notation.\n",
    "\n",
    "\n",
    "\n"
   ]
  }
 ],
 "metadata": {
  "kernelspec": {
   "display_name": "base",
   "language": "python",
   "name": "python3"
  },
  "language_info": {
   "codemirror_mode": {
    "name": "ipython",
    "version": 3
   },
   "file_extension": ".py",
   "mimetype": "text/x-python",
   "name": "python",
   "nbconvert_exporter": "python",
   "pygments_lexer": "ipython3",
   "version": "3.11.5"
  },
  "orig_nbformat": 4,
  "vscode": {
   "interpreter": {
    "hash": "45fc1f684f6f416f40889115beff3ddf69879b64cf4bfee48cb72a61e9d15d1a"
   }
  }
 },
 "nbformat": 4,
 "nbformat_minor": 2
}
