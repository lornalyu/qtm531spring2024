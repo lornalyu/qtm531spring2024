{
 "cells": [
  {
   "cell_type": "markdown",
   "metadata": {},
   "source": [
    "# QTM 531 – Midsemester Project\n",
    "## Ao Lyu (Lorna)"
   ]
  },
  {
   "cell_type": "markdown",
   "metadata": {},
   "source": [
    "In this project I will create and analyze a bage dataset in Amazon via web scraping. "
   ]
  },
  {
   "cell_type": "markdown",
   "metadata": {},
   "source": [
    "<font size = \"5\">\n",
    "\n",
    "Import packages for data processing"
   ]
  },
  {
   "cell_type": "code",
   "execution_count": 63,
   "metadata": {},
   "outputs": [],
   "source": [
    "# Manage datasets\n",
    "import pandas as pd\n",
    "\n",
    "# Work with time data\n",
    "import time "
   ]
  },
  {
   "cell_type": "markdown",
   "metadata": {},
   "source": [
    "<font size = \"5\">\n",
    "\n",
    "Import packages for HTML processing"
   ]
  },
  {
   "cell_type": "code",
   "execution_count": 64,
   "metadata": {},
   "outputs": [],
   "source": [
    "# Conduct HTTP requests\n",
    "import requests\n",
    "\n",
    "# Construct tree structure of HTML data\n",
    "import html5lib\n",
    "\n",
    "# Parse HTML data obtained from scraping\n",
    "from bs4 import BeautifulSoup as soup \n",
    "from bs4 import BeautifulSoup"
   ]
  },
  {
   "cell_type": "markdown",
   "metadata": {},
   "source": [
    "<font size = \"5\">\n",
    "\n",
    "Import packages for interactive <br>\n",
    "website navigation"
   ]
  },
  {
   "cell_type": "code",
   "execution_count": 65,
   "metadata": {},
   "outputs": [],
   "source": [
    "# Import webdriver for chrome\n",
    "from webdriver_manager.chrome import ChromeDriverManager\n",
    "\n",
    "# Automate navigating within browser (SELENIUM)\n",
    "#------ Key: Manage keys\n",
    "#------ Select: Obtain features from website\n",
    "#------ WebDriverWait: Add wait times implicitly\n",
    "#------ By: Use common information locator strategies\n",
    "#------ EC and Options: Browser configuration\n",
    "#------ remote.command: Check whether browser is active\n",
    "\n",
    "from selenium import webdriver #to automate the navigating within the browser\n",
    "from selenium.webdriver.common.keys    import Keys\n",
    "from selenium.webdriver.support.ui     import Select\n",
    "from selenium.webdriver.support.ui     import WebDriverWait \n",
    "from selenium.webdriver.common.by      import By\n",
    "from selenium.webdriver.support        import expected_conditions as EC\n",
    "from selenium.webdriver.chrome.options import Options #to use properties of the chrome webbrowser\n",
    "from selenium.webdriver.remote.command import Command # Use to check whether the web driver is active\n"
   ]
  },
  {
   "cell_type": "code",
   "execution_count": 66,
   "metadata": {},
   "outputs": [],
   "source": [
    "import os\n",
    "import time\n",
    "from datetime import date\n",
    "import csv\n",
    "from bs4 import BeautifulSoup\n",
    "import subprocess\n",
    "from selenium import webdriver\n",
    "from webdriver_manager.chrome import ChromeDriverManager\n",
    "from selenium.webdriver.chrome.options import Options\n",
    "from selenium.common.exceptions import NoSuchElementException\n",
    "from selenium.webdriver.common.by import By\n"
   ]
  },
  {
   "cell_type": "markdown",
   "metadata": {},
   "source": [
    "# <span style=\"color:darkblue\"> I. Running Chrome from Python </span>"
   ]
  },
  {
   "cell_type": "code",
   "execution_count": 95,
   "metadata": {},
   "outputs": [],
   "source": [
    "base_url = 'https://www.etsy.com/c/jewelry'"
   ]
  },
  {
   "cell_type": "code",
   "execution_count": 14,
   "metadata": {},
   "outputs": [],
   "source": [
    "# options = Options()\n",
    "\n",
    "# # True hides the navigating of the browser by the scraper,\n",
    "# # False shows you the tab/window opening and stuff getting clicked\n",
    "# options.headless = False \n",
    "\n",
    "# driver = webdriver.Chrome(ChromeDriverManager().install(), options=options)"
   ]
  },
  {
   "cell_type": "code",
   "execution_count": 15,
   "metadata": {},
   "outputs": [],
   "source": [
    "#driver.get(base_url)"
   ]
  },
  {
   "cell_type": "code",
   "execution_count": 16,
   "metadata": {},
   "outputs": [],
   "source": [
    "# response = requests.get(base_url)\n",
    "# html_content = response.text\n",
    "# soup = BeautifulSoup(html_content, 'html.parser')"
   ]
  },
  {
   "cell_type": "code",
   "execution_count": 17,
   "metadata": {},
   "outputs": [],
   "source": [
    "# driver = webdriver.Chrome(ChromeDriverManager().install())\n",
    "# #driver.get(\"https://www.urbanoutfitters.com/dresses\")\n",
    "# driver.get(\"https://www.urbanoutfitters.com\")"
   ]
  },
  {
   "cell_type": "code",
   "execution_count": 18,
   "metadata": {},
   "outputs": [],
   "source": [
    "# from selenium.webdriver.common.by import By\n",
    "\n",
    "# list_forms = driver.find_elements(By.CLASS_NAME, 'form-control')\n",
    "# len(list_forms)"
   ]
  },
  {
   "cell_type": "code",
   "execution_count": 19,
   "metadata": {},
   "outputs": [],
   "source": [
    "# from selenium import webdriver\n",
    "# from selenium.webdriver.chrome.service import Service\n",
    "# from webdriver_manager.chrome import ChromeDriverManager\n",
    "\n",
    "# # Setup Selenium WebDriver\n",
    "# options = webdriver.ChromeOptions()\n",
    "# # Optional: run in headless mode\n",
    "# # options.add_argument('--headless')\n",
    "# driver = webdriver.Chrome(service=Service(ChromeDriverManager().install()), options=options)\n",
    "\n",
    "# # Navigate to the website\n",
    "# driver.get('https://www.urbanoutfitters.com/dresses')\n",
    "\n",
    "# # Wait for the page to load (consider explicit waits for specific elements)\n",
    "# driver.implicitly_wait(10)\n",
    "\n",
    "# # Now you can extract the page source\n",
    "# page_source = driver.page_source\n",
    "\n",
    "\n",
    "# # Remember to close the driver after your scraping job is done\n",
    "# driver.quit()\n"
   ]
  },
  {
   "cell_type": "code",
   "execution_count": 67,
   "metadata": {},
   "outputs": [
    {
     "name": "stdout",
     "output_type": "stream",
     "text": [
      "$79.00\n"
     ]
    }
   ],
   "source": [
    "# Your HTML snippet\n",
    "html_snippet = '''\n",
    "<span aria-label=\"Original price: $79.00\" class=\"c-pwa-product-price__current s-pwa-product-price__current\">$79.00</span>\n",
    "'''\n",
    "\n",
    "# Parse the HTML with BeautifulSoup\n",
    "soup = BeautifulSoup(html_snippet, 'html.parser')\n",
    "\n",
    "\n",
    "price = soup.find('span', class_='c-pwa-product-price__current').text\n",
    "\n",
    "print(price)  \n"
   ]
  },
  {
   "cell_type": "code",
   "execution_count": 115,
   "metadata": {},
   "outputs": [
    {
     "name": "stderr",
     "output_type": "stream",
     "text": [
      "/var/folders/4d/z4q5k4qd0bgclyqnxbr4wkwr0000gn/T/ipykernel_95359/4144663846.py:1: DeprecationWarning: executable_path has been deprecated, please pass in a Service object\n",
      "  driver = webdriver.Chrome('path/to/chromedriver')\n"
     ]
    }
   ],
   "source": [
    "driver = webdriver.Chrome('path/to/chromedriver')\n",
    "\n",
    "# Get the page where the dresses are listed\n",
    "driver.get('https://www.etsy.com/c/jewelry')\n",
    "\n",
    "# Once content is loaded, get the page source\n",
    "html_content = driver.page_source\n",
    "\n",
    "# Now you can use BeautifulSoup to parse the page source\n",
    "soup = BeautifulSoup(html_content, 'html.parser')\n",
    "# Find all elements that contain original prices\n",
    "original_price_elements = soup.find_all('p', class_='wt-text-caption')\n",
    "\n",
    "# # Extract the original prices\n",
    "# original_prices = [elem.find('span', class_='wt-text-strikethrough').find('span', class_='currency-value').get_text() \n",
    "#                    for elem in original_price_elements \n",
    "#                    if elem.find('span', class_='wt-text-strikethrough') and elem.find('span', class_='currency-value')]\n",
    "\n",
    "# # Find all elements that contain current prices\n",
    "# current_price_elements = soup.find_all('p', class_='wt-text-title-01 lc-price')\n",
    "\n",
    "# # Extract the current prices\n",
    "# current_prices = [elem.find('span', class_='currency-value').get_text() for elem in current_price_elements if elem.find('span', class_='currency-value')]\n",
    "\n",
    "# # Print out the results\n",
    "# for original, current in zip(original_prices, current_prices):\n",
    "#     print(f'Original Price: {original} | Current Price: {current}')"
   ]
  },
  {
   "cell_type": "code",
   "execution_count": 116,
   "metadata": {},
   "outputs": [],
   "source": [
    "# Find all elements that could contain product prices\n",
    "product_elements = soup.find_all('div', class_='v2-listing-card__info')  # Assuming this class wraps both original and current prices\n",
    "\n",
    "original_prices = []\n",
    "current_prices = []\n",
    "\n",
    "for elem in product_elements:\n",
    "    # Attempt to find the original price\n",
    "    original_price_elem = elem.find('span', class_='wt-text-strikethrough')\n",
    "    if original_price_elem and original_price_elem.find('span', class_='currency-value'):\n",
    "        original_prices.append(original_price_elem.find('span', class_='currency-value').get_text())\n",
    "    else:\n",
    "        original_prices.append(pd.NA)  # Use pd.NA for missing values if using pandas, otherwise use None\n",
    "    \n",
    "    # Attempt to find the current price\n",
    "    current_price_elem = elem.find('p', class_='wt-text-title-01 lc-price')\n",
    "    if current_price_elem and current_price_elem.find('span', class_='currency-value'):\n",
    "        current_prices.append(current_price_elem.find('span', class_='currency-value').get_text())\n",
    "    else:\n",
    "        current_prices.append(pd.NA)  # Similarly, handle missing current prices\n"
   ]
  },
  {
   "cell_type": "code",
   "execution_count": 124,
   "metadata": {},
   "outputs": [
    {
     "name": "stdout",
     "output_type": "stream",
     "text": [
      "/Users/aolyu/Documents/GitHub/qtm531spring2024/Assignment/midsemester_project/products_with_discounts.csv\n"
     ]
    },
    {
     "name": "stderr",
     "output_type": "stream",
     "text": [
      "/var/folders/4d/z4q5k4qd0bgclyqnxbr4wkwr0000gn/T/ipykernel_95359/2138415147.py:20: DeprecationWarning: The 'text' argument to find()-type methods is deprecated. Use 'string' instead.\n",
      "  discount_span = elem.find('span', text=lambda text: text and '% off' in text)\n"
     ]
    }
   ],
   "source": [
    "import pandas as pd\n",
    "from bs4 import BeautifulSoup\n",
    "\n",
    "# Assuming soup has been created from your page source as shown previously\n",
    "\n",
    "# Initialize lists to store product information\n",
    "original_prices = []\n",
    "current_prices = []\n",
    "discounts = []\n",
    "\n",
    "# Iterate over each product element to extract pricing and discount information\n",
    "for elem in soup.find_all('div', class_='v2-listing-card__info'):\n",
    "    # Attempt to find the original price\n",
    "    original_price_elem = elem.find('span', class_='wt-text-strikethrough')\n",
    "    if original_price_elem and original_price_elem.find('span', class_='currency-value'):\n",
    "        original_price = original_price_elem.find('span', class_='currency-value').get_text()\n",
    "        original_prices.append(original_price)\n",
    "        \n",
    "        # Since there's an original price, attempt to find the discount\n",
    "        discount_span = elem.find('span', text=lambda text: text and '% off' in text)\n",
    "        if discount_span:\n",
    "            discount_text = discount_span.get_text(strip=True)\n",
    "            discounts.append(discount_text)\n",
    "        else:\n",
    "            discounts.append(pd.NA)\n",
    "    else:\n",
    "        # If there is no original price, append NA to both original_prices and discounts\n",
    "        original_prices.append(pd.NA)\n",
    "        discounts.append(pd.NA)\n",
    "    \n",
    "    # Attempt to find the current price\n",
    "    current_price_elem = elem.find('p', class_='wt-text-title-01 lc-price')\n",
    "    if current_price_elem and current_price_elem.find('span', class_='currency-value'):\n",
    "        current_price = current_price_elem.find('span', class_='currency-value').get_text()\n",
    "        current_prices.append(current_price)\n",
    "    else:\n",
    "        current_prices.append(pd.NA)\n",
    "\n",
    "# Assuming you have other data like product names, ratings, review counts, and URLs in corresponding lists\n",
    "data = {\n",
    "    'Name': product_names,  # This should be defined elsewhere in your code\n",
    "    'Original Price': original_prices,\n",
    "    'Current Price': current_prices,\n",
    "    'Discount': discounts,\n",
    "    # Add 'Rating', 'Review Count', 'URL', etc. as needed\n",
    "}\n",
    "\n",
    "# Create a DataFrame from the data\n",
    "df = pd.DataFrame(data)\n",
    "\n",
    "# Now you can save the DataFrame to a CSV, display it, etc.\n",
    "df.to_csv('/Users/aolyu/Documents/GitHub/qtm531spring2024/Assignment/midsemester_project/products_with_discounts.csv', index=False)\n",
    "\n",
    "# Outputting the file path for convenience\n",
    "print('/Users/aolyu/Documents/GitHub/qtm531spring2024/Assignment/midsemester_project/products_with_discounts.csv')\n"
   ]
  },
  {
   "cell_type": "code",
   "execution_count": 117,
   "metadata": {},
   "outputs": [],
   "source": [
    "# Find all elements that contain product names\n",
    "product_name_elements = soup.find_all('h2', class_='v2-listing-card__title')\n",
    "\n",
    "# Extract the product names\n",
    "product_names = [elem.get_text(strip=True) for elem in product_name_elements]\n",
    "\n",
    "#for name in product_names:\n",
    "    #print(name)\n"
   ]
  },
  {
   "cell_type": "code",
   "execution_count": 118,
   "metadata": {},
   "outputs": [
    {
     "name": "stdout",
     "output_type": "stream",
     "text": [
      "Rating: 4.7762, Review Count: (2,946)\n",
      "Rating: 4.7762, Review Count: (6,821)\n",
      "Rating: 4.8649, Review Count: (41,478)\n",
      "Rating: 4.8649, Review Count: (79,471)\n",
      "Rating: 4.8649, Review Count: (73,371)\n",
      "Rating: 4.8649, Review Count: (4,131)\n",
      "Rating: 4.905, Review Count: (3,402)\n",
      "Rating: 4.905, Review Count: (12,724)\n",
      "Rating: 4.8805, Review Count: (41,478)\n",
      "Rating: 4.8805, Review Count: (73,371)\n",
      "Rating: 4.845, Review Count: (15,530)\n",
      "Rating: 4.845, Review Count: (14,609)\n",
      "Rating: 4.9499, Review Count: (3,020)\n",
      "Rating: 4.9499, Review Count: (14,609)\n",
      "Rating: 4.8308, Review Count: (22,155)\n",
      "Rating: 4.8308, Review Count: (19,981)\n",
      "Rating: 4.8649, Review Count: (13,106)\n",
      "Rating: 4.8649, Review Count: (107)\n",
      "Rating: 4.8805, Review Count: (4,121)\n",
      "Rating: 4.8805, Review Count: (7,040)\n",
      "Rating: 4.9291, Review Count: (12,199)\n",
      "Rating: 4.9291, Review Count: (913)\n",
      "Rating: 4.8908, Review Count: (4,825)\n",
      "Rating: 4.8908, Review Count: (15,083)\n",
      "Rating: 4.9854, Review Count: (41,580)\n",
      "Rating: 4.9854, Review Count: (12,724)\n",
      "Rating: 4.8908, Review Count: (12,199)\n",
      "Rating: 4.8908, Review Count: (2,303)\n",
      "Rating: 4.7623, Review Count: (11,684)\n",
      "Rating: 4.7623, Review Count: (5,102)\n",
      "Rating: 4.8152, Review Count: (2,225)\n",
      "Rating: 4.8152, Review Count: (832)\n",
      "Rating: 4.7819, Review Count: (8,791)\n",
      "Rating: 4.7819, Review Count: (5,202)\n",
      "Rating: 4.8505, Review Count: (12,199)\n",
      "Rating: 4.8505, Review Count: (41,478)\n",
      "Rating: 4.8485, Review Count: (1,070)\n",
      "Rating: 4.8485, Review Count: (10,471)\n",
      "Rating: 4.8484, Review Count: (5,487)\n",
      "Rating: 4.8484, Review Count: (34,029)\n",
      "Rating: 4.8577, Review Count: (559)\n",
      "Rating: 4.8577, Review Count: (5,567)\n",
      "Rating: 4.7374, Review Count: (12,199)\n",
      "Rating: 4.7374, Review Count: (79,471)\n",
      "Rating: 4.8425, Review Count: (12,199)\n",
      "Rating: 4.8425, Review Count: (1,811)\n",
      "Rating: 4.7494, Review Count: (606)\n",
      "Rating: 4.7494, Review Count: (442)\n",
      "Rating: 4.7583, Review Count: (7,581)\n",
      "Rating: 4.7583, Review Count: (267)\n",
      "Rating: 4.8308, Review Count: (4,527)\n",
      "Rating: 4.8308, Review Count: (4,850)\n",
      "Rating: 4.8577, Review Count: (1,908)\n",
      "Rating: 4.8577, Review Count: (5,026)\n",
      "Rating: 4.7968, Review Count: (2,859)\n",
      "Rating: 4.7968, Review Count: (7,694)\n",
      "Rating: 4.7899, Review Count: (6,738)\n",
      "Rating: 4.7899, Review Count: (4,071)\n",
      "Rating: 4.9832, Review Count: (11,465)\n",
      "Rating: 4.9832, Review Count: (40,182)\n",
      "Rating: 4.7076, Review Count: (16,309)\n",
      "Rating: 4.7076, Review Count: (11,465)\n"
     ]
    }
   ],
   "source": [
    "# Extract all data-star ratings\n",
    "data_star_elements = soup.find_all('input', {'name': ['initial-rating', 'rating']})\n",
    "data_star_ratings = [float(elem['value']) for elem in data_star_elements if elem.has_attr('value')]\n",
    "\n",
    "# Extract all review counts\n",
    "review_count_elements = soup.find_all('span', class_='wt-text-caption wt-text-gray wt-display-inline-block wt-nudge-l-3 wt-pr-xs-1')\n",
    "review_counts = [elem.get_text(strip=True) for elem in review_count_elements]\n",
    "\n",
    "# Display the results\n",
    "for rating, count in zip(data_star_ratings, review_counts):\n",
    "    print(f\"Rating: {rating}, Review Count: {count}\")"
   ]
  },
  {
   "cell_type": "code",
   "execution_count": 121,
   "metadata": {},
   "outputs": [],
   "source": [
    "product_elements = soup.find_all('div', class_='v2-listing-card__info')\n",
    "# Find all elements that may contain discount information\n",
    "discount_elements = soup.find_all('p', class_='search-collage-promotion-price')\n",
    "\n",
    "# Initialize an empty list for discounts\n",
    "discounts = []\n",
    "\n",
    "discount_elem = elem.find('p', class_='search-collage-promotion-price')\n",
    "for elem in product_elements:\n",
    "    if discount_elem and discount_elem.find('span', text=lambda text: text and '% off' in text):\n",
    "        discount_text = discount_elem.find('span', text=lambda text: text and '% off' in text).get_text(strip=True)\n",
    "        data['Discount'].append(discount_text)\n",
    "    else:\n",
    "        data['Discount'].append(pd.NA)\n",
    "\n",
    "# # Loop through each element that could contain a discount\n",
    "# for elem in discount_elements:\n",
    "#     # Attempt to find the span containing the discount text\n",
    "#     discount_span = elem.find('span', text=lambda text: text and '% off' in text)\n",
    "#     if discount_span:\n",
    "#         # Extract the text directly if found\n",
    "#         discount_text = discount_span.get_text(strip=True)\n",
    "#         discounts.append(discount_text)\n",
    "#     else:\n",
    "#         # Append NA if the discount is not present\n",
    "#         discounts.append(pd.NA) "
   ]
  },
  {
   "cell_type": "code",
   "execution_count": 123,
   "metadata": {},
   "outputs": [
    {
     "name": "stdout",
     "output_type": "stream",
     "text": [
      "                                                Name Original Price  \\\n",
      "0  14k Gold Chain Necklace - Box Chain - Rope Cha...          28.80   \n",
      "1  Turquoise Flower Stud Earrings, Sterling Silve...          40.02   \n",
      "2  Large bi-color imperial topaz dangling earring...          39.50   \n",
      "3  Custom Pet Portrait Necklace, Engraved Pet Por...          14.70   \n",
      "4  Photo Locket Necklace, Folding Locket with Pic...          46.70   \n",
      "\n",
      "  Current Price   Discount  \n",
      "0         28.80  (52% off)  \n",
      "1         40.02  (25% off)  \n",
      "2         39.50       <NA>  \n",
      "3         14.70  (70% off)  \n",
      "4         46.70       <NA>  \n"
     ]
    },
    {
     "name": "stderr",
     "output_type": "stream",
     "text": [
      "/var/folders/4d/z4q5k4qd0bgclyqnxbr4wkwr0000gn/T/ipykernel_95359/2146275136.py:36: DeprecationWarning: The 'text' argument to find()-type methods is deprecated. Use 'string' instead.\n",
      "  if discount_elem and discount_elem.find('span', text=lambda text: text and '% off' in text):\n",
      "/var/folders/4d/z4q5k4qd0bgclyqnxbr4wkwr0000gn/T/ipykernel_95359/2146275136.py:37: DeprecationWarning: The 'text' argument to find()-type methods is deprecated. Use 'string' instead.\n",
      "  discount_text = discount_elem.find('span', text=lambda text: text and '% off' in text).get_text(strip=True)\n"
     ]
    },
    {
     "data": {
      "text/plain": [
       "'/Users/aolyu/Documents/GitHub/qtm531spring2024/Assignment/midsemester_project/products.csv'"
      ]
     },
     "execution_count": 123,
     "metadata": {},
     "output_type": "execute_result"
    }
   ],
   "source": [
    "# Assuming 'product_elements' represents each product in the listing\n",
    "product_elements = soup.find_all('div', class_='v2-listing-card__info')  # Adjust the class as necessary\n",
    "\n",
    "data = {\n",
    "    'Name': [],\n",
    "    'Original Price': [],\n",
    "    'Current Price': [],\n",
    "    'Discount': [],\n",
    "    # Add more fields as needed\n",
    "}\n",
    "\n",
    "for elem in product_elements:\n",
    "    # Extract product name\n",
    "    name_elem = elem.find('h2', class_='v2-listing-card__title')\n",
    "    data['Name'].append(name_elem.get_text(strip=True) if name_elem else pd.NA)\n",
    "    \n",
    "    # Extract original price\n",
    "    original_price_elem = elem.find('span', class_='currency-value')\n",
    "    data['Original Price'].append(original_price_elem.get_text(strip=True) if original_price_elem else pd.NA)\n",
    "    \n",
    "    # Extract current price\n",
    "    current_price_elem = elem.find('p', class_='wt-text-title-01 lc-price')\n",
    "    if current_price_elem and current_price_elem.find('span', class_='currency-value'):\n",
    "        data['Current Price'].append(current_price_elem.find('span', class_='currency-value').get_text())\n",
    "    else:\n",
    "        data['Current Price'].append(pd.NA)\n",
    "    \n",
    "    # Extract discount\n",
    "    discount_elem = elem.find('p', class_='search-collage-promotion-price')\n",
    "    if discount_elem and discount_elem.find('span', text=lambda text: text and '% off' in text):\n",
    "        discount_text = discount_elem.find('span', text=lambda text: text and '% off' in text).get_text(strip=True)\n",
    "        data['Discount'].append(discount_text)\n",
    "    else:\n",
    "        data['Discount'].append(pd.NA)\n",
    "\n",
    "# Create DataFrame\n",
    "df = pd.DataFrame(data)\n",
    "\n",
    "# Print first few rows to verify\n",
    "print(df.head())\n",
    "\n",
    "# Save to CSV\n",
    "csv_path = '/Users/aolyu/Documents/GitHub/qtm531spring2024/Assignment/midsemester_project/products.csv'\n",
    "df.to_csv(csv_path, index=False)\n",
    "\n",
    "# Provide CSV path for download\n",
    "csv_path\n"
   ]
  },
  {
   "cell_type": "code",
   "execution_count": 94,
   "metadata": {},
   "outputs": [
    {
     "name": "stdout",
     "output_type": "stream",
     "text": [
      "FREE shipping\n",
      "FREE shipping\n",
      "FREE shipping\n",
      "FREE shipping\n",
      "FREE shipping\n",
      "FREE shipping\n",
      "FREE shipping\n",
      "FREE shipping\n",
      "FREE shipping\n",
      "FREE shipping\n",
      "FREE shipping\n",
      "FREE shipping\n",
      "FREE shipping\n",
      "FREE shipping\n",
      "FREE shipping\n",
      "FREE shipping\n",
      "FREE shipping\n",
      "FREE shipping\n",
      "FREE shipping\n",
      "FREE shipping\n",
      "FREE shipping\n",
      "FREE shipping\n",
      "FREE shipping\n",
      "FREE shipping\n",
      "FREE shipping\n",
      "FREE shipping\n",
      "FREE shipping\n",
      "FREE shipping\n",
      "FREE shipping\n",
      "FREE shipping\n",
      "FREE shipping\n",
      "FREE shipping\n",
      "FREE shipping\n",
      "FREE shipping\n",
      "FREE shipping\n",
      "FREE shipping\n"
     ]
    }
   ],
   "source": [
    "from bs4 import BeautifulSoup\n",
    "\n",
    "# Assuming `soup` is a BeautifulSoup object containing the HTML of the page\n",
    "\n",
    "# Find all elements that could indicate free shipping\n",
    "shipping_badge_elements = soup.find_all('span', class_='wt-badge wt-badge--small wt-badge--statusValue')\n",
    "\n",
    "# Extract free shipping information\n",
    "free_shipping_info = []\n",
    "for elem in shipping_badge_elements:\n",
    "    if 'FREE shipping' in elem.get_text():\n",
    "        # Free shipping is offered\n",
    "        free_shipping_info.append(\"FREE shipping\")\n",
    "    else:\n",
    "        # Free shipping is not offered\n",
    "        free_shipping_info.append(\"No free shipping\")\n",
    "\n",
    "# Print the free shipping information to verify\n",
    "for shipping in free_shipping_info:\n",
    "    print(shipping)\n",
    "\n"
   ]
  },
  {
   "cell_type": "code",
   "execution_count": 58,
   "metadata": {},
   "outputs": [],
   "source": [
    "from bs4 import BeautifulSoup\n",
    "\n",
    "# Assuming `soup` is a BeautifulSoup object containing the HTML of the page\n",
    "\n",
    "# Placeholder for parent elements. You need to replace 'parent-element-class' with the actual class.\n",
    "parent_elements = soup.find_all('div', class_='parent-element-class')\n",
    "\n",
    "products_info = []\n",
    "\n",
    "for parent in parent_elements:\n",
    "    # Extracting product name\n",
    "    name_elem = parent.find('h2', class_='v2-listing-card__title')\n",
    "    product_name = name_elem.get_text(strip=True) if name_elem else \"No Name\"\n",
    "    \n",
    "    # Extracting star rating\n",
    "    rating_elem = parent.find('input', {'name': 'rating'})\n",
    "    star_rating = float(rating_elem['value']) if rating_elem else \"No Rating\"\n",
    "    \n",
    "    # Extracting review count\n",
    "    review_count_elem = parent.find('span', class_='wt-text-caption wt-text-gray wt-display-inline-block wt-nudge-l-3 wt-pr-xs-1')\n",
    "    review_count = review_count_elem.get_text(strip=True) if review_count_elem else \"No Reviews\"\n",
    "    \n",
    "    # Extracting discount\n",
    "    discount_elem = parent.find('p', class_='wt-text-caption search-collage-promotion-price')\n",
    "    if discount_elem:\n",
    "        discount_text = discount_elem.find_all('span')[-1].get_text(strip=True)\n",
    "        discount = discount_text if discount_text else \"No Discount\"\n",
    "    else:\n",
    "        discount = \"No Discount\"\n",
    "    \n",
    "    products_info.append({\n",
    "        'Product Name': product_name,\n",
    "        'Star Rating': star_rating,\n",
    "        'Review Count': review_count,\n",
    "        'Discount': discount\n",
    "    })\n",
    "\n",
    "# Displaying extracted information\n",
    "for product in products_info:\n",
    "    print(product)\n"
   ]
  },
  {
   "cell_type": "code",
   "execution_count": 22,
   "metadata": {},
   "outputs": [],
   "source": [
    "dresses = soup.find_all('div', class_='dress-item')  # Example class name\n",
    "for dress in dresses:\n",
    "    price_span= soup.find('span', class_='c-pwa-product-price__current s-pwa-product-price__current')  \n",
    "    price = dress.find('span', class_='price').text  # Example class name\n",
    "    # Extract other details similarly\n",
    "    print(f'Name: {name}, Price: {price}')\n"
   ]
  },
  {
   "cell_type": "code",
   "execution_count": 23,
   "metadata": {},
   "outputs": [
    {
     "name": "stdout",
     "output_type": "stream",
     "text": [
      "       Name  Price\n",
      "count   0.0    0.0\n",
      "mean    NaN    NaN\n",
      "std     NaN    NaN\n",
      "min     NaN    NaN\n",
      "25%     NaN    NaN\n",
      "50%     NaN    NaN\n",
      "75%     NaN    NaN\n",
      "max     NaN    NaN\n"
     ]
    }
   ],
   "source": [
    "data = {'Name': [], 'Price': []}  # Add more fields as needed\n",
    "for dress in dresses:\n",
    "    data['Name'].append(dress.find('h2', class_='name').text)\n",
    "    data['Price'].append(dress.find('span', class_='price').text)\n",
    "\n",
    "df = pd.DataFrame(data)\n",
    "print(df.describe())  # Basic statistics\n",
    "df.to_csv('dresses.csv', index=False)  # Save to CSV\n"
   ]
  },
  {
   "cell_type": "code",
   "execution_count": 24,
   "metadata": {},
   "outputs": [
    {
     "ename": "ModuleNotFoundError",
     "evalue": "No module named 'store_response'",
     "output_type": "error",
     "traceback": [
      "\u001b[0;31m---------------------------------------------------------------------------\u001b[0m",
      "\u001b[0;31mModuleNotFoundError\u001b[0m                       Traceback (most recent call last)",
      "Cell \u001b[0;32mIn[24], line 1\u001b[0m\n\u001b[0;32m----> 1\u001b[0m \u001b[38;5;28;01mfrom\u001b[39;00m \u001b[38;5;21;01mstore_response\u001b[39;00m \u001b[38;5;28;01mimport\u001b[39;00m StoreResponseError, get_store_response\n\u001b[1;32m      2\u001b[0m \u001b[38;5;28;01mfrom\u001b[39;00m \u001b[38;5;21;01mscraper\u001b[39;00m \u001b[38;5;28;01mimport\u001b[39;00m scrape_store\n\u001b[1;32m      4\u001b[0m \u001b[38;5;28;01mdef\u001b[39;00m \u001b[38;5;21mmain\u001b[39m():\n",
      "\u001b[0;31mModuleNotFoundError\u001b[0m: No module named 'store_response'"
     ]
    }
   ],
   "source": [
    "from store_response import StoreResponseError, get_store_response\n",
    "from scraper import scrape_store\n",
    "\n",
    "def main():\n",
    "    store_url = input(\"https://www.urbanoutfitters.com/womens-clothing\")\n",
    "    try:\n",
    "        store_response = get_store_response(store_url)\n",
    "        if store_response:\n",
    "            scrape_store(store_response, store_url)\n",
    "    except StoreResponseError as e:\n",
    "        print(e)\n",
    "\n",
    "if __name__ == \"__main__\":\n",
    "    main()"
   ]
  },
  {
   "cell_type": "code",
   "execution_count": 97,
   "metadata": {},
   "outputs": [
    {
     "name": "stdout",
     "output_type": "stream",
     "text": [
      "https://www.etsy.com/listing/462945859/raw-crystal-necklace-rose-quartz?click_key=79a1ad9dc4b9a58222eb036edc9ca734827ac211%3A462945859&click_sum=8f84eb60&ga_order=most_relevant&ga_search_type=all&ga_view_type=gallery&ga_search_query=&ref=search_grid-1076529-1-1&pro=1&sts=1\n",
      "https://www.etsy.com/listing/469875368/photo-locket-necklace-folding-locket?click_key=2a5e46c27227fe28e5d1ecdc8bfca8609d202390%3A469875368&click_sum=deecd1f6&ga_order=most_relevant&ga_search_type=all&ga_view_type=gallery&ga_search_query=&ref=search_grid-1076529-1-2&frs=1&etp=1&sts=1\n",
      "https://www.etsy.com/listing/546844015/custom-name-stethoscope-necklace-medical?click_key=7d95cb91d4404c68cb3557922e5cba94cff86787%3A546844015&click_sum=ac5d5ca2&ga_order=most_relevant&ga_search_type=all&ga_view_type=gallery&ga_search_query=&ref=search_grid-1076529-1-3&pro=1\n",
      "https://www.etsy.com/listing/159695340/initials-necklace-ampersand-or-heart?click_key=5b19739304e007063500cdc7373eef7254e5474d%3A159695340&click_sum=e137e360&ga_order=most_relevant&ga_search_type=all&ga_view_type=gallery&ga_search_query=&ref=search_grid-1076529-1-4&pro=1&frs=1&sts=1\n",
      "https://www.etsy.com/listing/172007858/personalized-silver-bracelet-sterling?click_key=c71649574618547d51150cbc7865bc809b389f54%3A172007858&click_sum=b8a2fb20&ga_order=most_relevant&ga_search_type=all&ga_view_type=gallery&ga_search_query=&ref=search_grid-1076529-1-5&etp=1&sts=1\n",
      "https://www.etsy.com/listing/246331662/eve-necklace-beaded-chain-choker?click_key=b32fc2e10ad88c7db1ad75b8de3e8d6c649ade93%3A246331662&click_sum=c6802aef&ga_order=most_relevant&ga_search_type=all&ga_view_type=gallery&ga_search_query=&ref=search_grid-1076529-1-6&pro=1\n",
      "https://www.etsy.com/listing/458620682/birthstone-bar-necklace-birthstone?click_key=5a3b9a0623229b97b8bf22c4110a224e239c179a%3A458620682&click_sum=0d386012&ga_order=most_relevant&ga_search_type=all&ga_view_type=gallery&ga_search_query=&ref=search_grid-1076529-1-7&pro=1&frs=1&sts=1\n",
      "https://www.etsy.com/listing/520083467/personalized-book-locket-necklace-with?click_key=73bdf55eb2d8d95c60e920c1e51b075f13ec02c7%3A520083467&click_sum=1c04335e&ga_order=most_relevant&ga_search_type=all&ga_view_type=gallery&ga_search_query=&ref=search_grid-1076529-1-8&frs=1&etp=1&sts=1\n",
      "https://www.etsy.com/listing/167225072/statement-ring-handmade-boho-ring-full?click_key=d801307acb439aa9092a8f86cd2afdc5362128b7%3A167225072&click_sum=f4d67b79&ga_order=most_relevant&ga_search_type=all&ga_view_type=gallery&ga_search_query=&ref=search_grid-1076529-1-9&pro=1&sts=1\n",
      "https://www.etsy.com/listing/179408135/teal-flower-earrings-dangle-earrings?click_key=d862b17cc529465055c693054833dbff3cd1008c%3A179408135&click_sum=b5d39eff&ga_order=most_relevant&ga_search_type=all&ga_view_type=gallery&ga_search_query=&ref=search_grid-1076529-1-10&pro=1\n",
      "https://www.etsy.com/listing/449625440/rose-gold-dainty-beaded-necklace-boho?click_key=0c9e085c13a1577a6a08a04ad9fb41910fdfddc8%3A449625440&click_sum=744545bb&ga_order=most_relevant&ga_search_type=all&ga_view_type=gallery&ga_search_query=&ref=search_grid-1076529-1-11&etp=1&sts=1\n",
      "https://www.etsy.com/listing/463811549/rose-gold-delicate-necklace-with-tiny?click_key=79887a16a910c57bf680cf5d24a966601598e927%3A463811549&click_sum=702d843a&ga_order=most_relevant&ga_search_type=all&ga_view_type=gallery&ga_search_query=&ref=search_grid-1076529-1-12&etp=1&sts=1\n",
      "https://www.etsy.com/listing/247583342/tiny-initial-heart-necklace-hand-stamped?click_key=6e4b9f45c06b9d53bc21e926fae084731e3f1099%3A247583342&click_sum=d8aa25d7&ga_order=most_relevant&ga_search_type=all&ga_view_type=gallery&ga_search_query=&ref=search_grid-1076529-1-13&pro=1&frs=1&sts=1\n",
      "https://www.etsy.com/listing/521412928/personalized-dainty-bracelet-jewelry?click_key=5e46e797c5b378332f2e40d68f20ae3517135e86%3A521412928&click_sum=4e14937f&ga_order=most_relevant&ga_search_type=all&ga_view_type=gallery&ga_search_query=&ref=search_grid-1076529-1-14&pro=1&sts=1\n",
      "https://www.etsy.com/listing/466386558/sapphire-jewelry-birthstone-jewelry?click_key=02e70258a41fa70545aa5017a8a657c1e417085a%3A466386558&click_sum=67160f34&ga_order=most_relevant&ga_search_type=all&ga_view_type=gallery&ga_search_query=&ref=search_grid-1076529-1-15&pro=1&frs=1&sts=1\n",
      "https://www.etsy.com/listing/211288648/pebble-bead-bracelet-silver-bracelet?click_key=8a1e21a5079d12056b00841320f40dd484fe99cd%3A211288648&click_sum=eb1979a8&ga_order=most_relevant&ga_search_type=all&ga_view_type=gallery&ga_search_query=&ref=search_grid-1076529-1-16&frs=1&etp=1\n",
      "https://www.etsy.com/listing/385885894/karma-necklace-hammered-ring-necklace?click_key=69b7af888b925052f2dd1b1a0e73ce9892fcb35d%3A385885894&click_sum=5108fe05&ga_order=most_relevant&ga_search_type=all&ga_view_type=gallery&ga_search_query=&ref=search_grid-1076529-1-17&pro=1&frs=1\n",
      "https://www.etsy.com/listing/244937167/ear-climber-gold-minimalist-sterling?click_key=271d808acffcc08ca99a911ee4333e116a5b9e41%3A244937167&click_sum=69467a2c&ga_order=most_relevant&ga_search_type=all&ga_view_type=gallery&ga_search_query=&ref=search_grid-1076529-1-18&pro=1&sts=1\n",
      "https://www.etsy.com/listing/208829164/minimalist-aquamarine-necklace-dainty?click_key=501a2107cd53aa90334445bc2b0873a3d027960d%3A208829164&click_sum=f28310fd&ga_order=most_relevant&ga_search_type=all&ga_view_type=gallery&ga_search_query=&ref=search_grid-1076529-1-19&pro=1&sts=1\n",
      "https://www.etsy.com/listing/557634149/14k-solid-gold-name-necklace-customized?click_key=def115d17d398f3ae521d0d0b2dc2e5829bc5fa5%3A557634149&click_sum=5b04e82d&ga_order=most_relevant&ga_search_type=all&ga_view_type=gallery&ga_search_query=&ref=search_grid-1076529-1-20&pro=1&frs=1&sts=1\n",
      "https://www.etsy.com/listing/224374900/minimalist-necklace-dainty-gold-necklace?click_key=d6d7a3b174bb4493c4c0edaed9ca70ce1c2d8309%3A224374900&click_sum=6bc241fd&ga_order=most_relevant&ga_search_type=all&ga_view_type=gallery&ga_search_query=&ref=search_grid-1076529-1-21&pro=1&sts=1\n",
      "https://www.etsy.com/listing/130551658/double-pendant-necklace-layered-necklace?click_key=2fd252bb2ccc0f4bfb1ce4b7c007eecafab0e71f%3A130551658&click_sum=39a0ad10&ga_order=most_relevant&ga_search_type=all&ga_view_type=gallery&ga_search_query=&ref=search_grid-1076529-1-22&pro=1&frs=1\n",
      "https://www.etsy.com/listing/287763559/dog-necklace-personalized-dog-paw?click_key=682e08f466680027bb2879ffa62f80a621383f37%3A287763559&click_sum=0e23eecd&ga_order=most_relevant&ga_search_type=all&ga_view_type=gallery&ga_search_query=&ref=search_grid-1076529-1-23&frs=1&etp=1\n",
      "https://www.etsy.com/listing/477602878/tiny-cat-stud-earrings-cat-lovers-gift?click_key=d9e6b5c546be5c4c0a4c7f820c11c9d6444c26b3%3A477602878&click_sum=e2cfe4be&ga_order=most_relevant&ga_search_type=all&ga_view_type=gallery&ga_search_query=&ref=search_grid-1076529-1-24&etp=1&sts=1\n",
      "https://www.etsy.com/listing/236815596/turquoise-leaf-earrings-art-nouveau-arts?click_key=fba6a7abf991036c79dd163cf045a891fb1f8692%3A236815596&click_sum=73f5c5df&ga_order=most_relevant&ga_search_type=all&ga_view_type=gallery&ga_search_query=&ref=search_grid-1076529-1-25&frs=1&etp=1&sts=1\n",
      "https://www.etsy.com/listing/234445479/necklaces-for-women-birthstone-necklace?click_key=50fbc76677ef1c1988cc14baa78acfe84f80377f%3A234445479&click_sum=1891a3a6&ga_order=most_relevant&ga_search_type=all&ga_view_type=gallery&ga_search_query=&ref=search_grid-1076529-1-26&pro=1&sts=1\n",
      "https://www.etsy.com/listing/260461653/personalized-book-necklace-book-jewelry?click_key=b787714975315ece0a819a6526008b1522566a09%3A260461653&click_sum=f09184b2&ga_order=most_relevant&ga_search_type=all&ga_view_type=gallery&ga_search_query=&ref=search_grid-1076529-1-27&frs=1&etp=1&sts=1\n",
      "https://www.etsy.com/listing/277658882/set-of-2-ear-cuffs-for-upper-ear-no?click_key=027120be0061dc1d0dd459d6c909baf6d6b72773%3A277658882&click_sum=5ebb72f7&ga_order=most_relevant&ga_search_type=all&ga_view_type=gallery&ga_search_query=&ref=search_grid-1076529-1-28&pro=1&frs=1&sts=1\n",
      "https://www.etsy.com/listing/513484541/opal-earrings-raw-australian-opal-studs?click_key=18a3863bfdde0395810537dbfc319845259ce638%3A513484541&click_sum=74c3d8d9&ga_order=most_relevant&ga_search_type=all&ga_view_type=gallery&ga_search_query=&ref=search_grid-1076529-1-29&pro=1&frs=1&sts=1\n",
      "https://www.etsy.com/listing/492211039/maid-of-honor-sister-bracelet-maid-of?click_key=a3a285802e8042185e25b150b218c46901a169e3%3A492211039&click_sum=8e11e247&ga_order=most_relevant&ga_search_type=all&ga_view_type=gallery&ga_search_query=&ref=search_grid-1076529-1-30&frs=1&etp=1&sts=1\n",
      "https://www.etsy.com/listing/466529577/gold-opal-ring-opal-ring-gold-ring?click_key=cd46128d6faab2d4dd4f79300d3f70cf4d15aed9%3A466529577&click_sum=7f71f278&ga_order=most_relevant&ga_search_type=all&ga_view_type=gallery&ga_search_query=&ref=search_grid-1076529-1-31&frs=1&etp=1&sts=1\n",
      "https://www.etsy.com/listing/232493185/dainty-bracelet-beaded-bracelet?click_key=e74ae834f164fad411ad770568aa459189a8c29c%3A232493185&click_sum=39541602&ga_order=most_relevant&ga_search_type=all&ga_view_type=gallery&ga_search_query=&ref=search_grid-1076529-1-32&pro=1&sts=1\n",
      "https://www.etsy.com/listing/502237773/white-and-gold-oyster-shell-ring-dish?click_key=124d47ffb007b2ce6ba807047fa1278ba4bf1e18%3A502237773&click_sum=a47b44f9&ga_order=most_relevant&ga_search_type=all&ga_view_type=gallery&ga_search_query=&ref=search_grid-1076529-1-33&etp=1\n",
      "https://www.etsy.com/listing/276230092/raw-aquamarine-necklace-march-birthstone?click_key=16bfb0ad1260162c2621453630b81788f23e4ab9%3A276230092&click_sum=74b9c728&ga_order=most_relevant&ga_search_type=all&ga_view_type=gallery&ga_search_query=&ref=search_grid-1076529-1-34&pro=1&sts=1\n",
      "https://www.etsy.com/listing/234650609/real-leaf-earrings-18k-gold-leaf?click_key=9d9d221f13d621a98f07fa370b78beb50cd69d49%3A234650609&click_sum=7c823d99&ga_order=most_relevant&ga_search_type=all&ga_view_type=gallery&ga_search_query=&ref=search_grid-1076529-1-35&etp=1\n",
      "https://www.etsy.com/listing/494195697/personalised-mini-russian-ring-necklace?click_key=078a4beeb57f8de2a1472326973d7d476ab23996%3A494195697&click_sum=273504dc&ga_order=most_relevant&ga_search_type=all&ga_view_type=gallery&ga_search_query=&ref=search_grid-1076529-1-36&frs=1&etp=1&sts=1\n",
      "https://www.etsy.com/listing/252638211/simple-double-heart-necklace-dainty?click_key=0d8128e3f2573d308bda832506c850f29bcb8be4%3A252638211&click_sum=defd1761&ga_order=most_relevant&ga_search_type=all&ga_view_type=gallery&ga_search_query=&ref=search_grid-1076529-1-37&pro=1&sts=1\n",
      "https://www.etsy.com/listing/208402627/dainty-peridot-necklace-gold-peridot?click_key=370dad361adfaec3e3988dab8517b2654932136b%3A208402627&click_sum=cdc3747b&ga_order=most_relevant&ga_search_type=all&ga_view_type=gallery&ga_search_query=&ref=search_grid-1076529-1-38&pro=1&sts=1\n",
      "https://www.etsy.com/listing/241857554/silver-lariat-necklace-long-statement?click_key=fb96f4b05afb290608dd7d70d9c7f5280f605187%3A241857554&click_sum=9aa3e13a&ga_order=most_relevant&ga_search_type=all&ga_view_type=gallery&ga_search_query=&ref=search_grid-1076529-1-39&pro=1\n",
      "https://www.etsy.com/listing/495729781/engagement-gift-ring-dish-date-and?click_key=e0f4c89d01f22fb3553b92dca5410bd459ae48e3%3A495729781&click_sum=6e90909d&ga_order=most_relevant&ga_search_type=all&ga_view_type=gallery&ga_search_query=&ref=search_grid-1076529-1-40&etp=1\n",
      "https://www.etsy.com/listing/259853170/crystal-cage-necklace-handmade-gift-for?click_key=d01265559296648f29b1cac891a66c1caa5ba4d8%3A259853170&click_sum=407e6beb&ga_order=most_relevant&ga_search_type=all&ga_view_type=gallery&ga_search_query=&ref=search_grid-1076529-1-41&pro=1&frs=1&sts=1\n",
      "https://www.etsy.com/listing/514514043/dandelion-wish-necklace-water-drop?click_key=d22dbb1384ab82d2d189f608e680880b9bca5d6d%3A514514043&click_sum=c36af599&ga_order=most_relevant&ga_search_type=all&ga_view_type=gallery&ga_search_query=&ref=search_grid-1076529-1-42&etp=1&sts=1\n",
      "https://www.etsy.com/listing/510030874/original-solid-gold-sun-ring-hand?click_key=784a2e85326e43c7639d6b4715b9e348f1d54724%3A510030874&click_sum=252ba9aa&ga_order=most_relevant&ga_search_type=all&ga_view_type=gallery&ga_search_query=&ref=search_grid-1076529-1-43&etp=1&sts=1\n",
      "https://www.etsy.com/listing/560636791/personalized-bar-necklace-calligraphy?click_key=a67ab6a1fa240b1ed2bf2eb90fcf72f6610652ed%3A560636791&click_sum=d2feed9a&ga_order=most_relevant&ga_search_type=all&ga_view_type=gallery&ga_search_query=&ref=search_grid-1076529-1-44&frs=1&etp=1\n",
      "https://www.etsy.com/listing/523741677/dandelion-seed-necklace-dandelion?click_key=7094a24289e3e7e573b45ae20bbbd52d1f953a38%3A523741677&click_sum=f5a52fda&ga_order=most_relevant&ga_search_type=all&ga_view_type=gallery&ga_search_query=&ref=search_grid-1076529-1-45&pro=1&sts=1\n",
      "https://www.etsy.com/listing/278285602/star-bracelet-gold-or-silver-star?click_key=5ee45505bc8a12f3ea26e9a384b88a417b02b0ae%3A278285602&click_sum=6d546f67&ga_order=most_relevant&ga_search_type=all&ga_view_type=gallery&ga_search_query=&ref=search_grid-1076529-1-46&pro=1&frs=1&sts=1\n",
      "https://www.etsy.com/listing/213112785/gold-horseshoe-necklace-tiny-horseshoe?click_key=837593cd30f4bea8f6815d0896ed5fbaba4d6970%3A213112785&click_sum=76b95c44&ga_order=most_relevant&ga_search_type=all&ga_view_type=gallery&ga_search_query=&ref=search_grid-1076529-1-47&pro=1&frs=1&sts=1\n",
      "https://www.etsy.com/listing/276829058/large-gold-wrap-ring-14k-gold-fill?click_key=16cf2bbd0492fb3e75ab0a33db4bcd062c9e129b%3A276829058&click_sum=6dba828a&ga_order=most_relevant&ga_search_type=all&ga_view_type=gallery&ga_search_query=&ref=search_grid-1076529-1-48&pro=1&frs=1&sts=1\n",
      "https://www.etsy.com/listing/249635051/dainty-zodiac-necklace-zodiac-necklace?click_key=ce7e6994c54aab811ab52fb9b91901728cd24459%3A249635051&click_sum=50f8867a&ga_order=most_relevant&ga_search_type=all&ga_view_type=gallery&ga_search_query=&ref=search_grid-1076529-1-49&frs=1&etp=1\n",
      "https://www.etsy.com/listing/236704984/moon-and-star-necklace-delicate-gold?click_key=0591fc1e14c7256c63de7347d13d3142ef15b01b%3A236704984&click_sum=807753d5&ga_order=most_relevant&ga_search_type=all&ga_view_type=gallery&ga_search_query=&ref=search_grid-1076529-1-50&pro=1&frs=1&sts=1\n",
      "https://www.etsy.com/listing/505614847/personalized-leather-bracelet-kid-name?click_key=481214d774f2095c1ccf6fa9a0b358900c9ee95a%3A505614847&click_sum=91c5c9a3&ga_order=most_relevant&ga_search_type=all&ga_view_type=gallery&ga_search_query=&ref=search_grid-1076529-1-51&pro=1\n",
      "https://www.etsy.com/listing/279094174/emerald-ring-emerald-engagement-ring?click_key=dc6e3c34f13af4462d35b562fb3cf980e502f7e8%3A279094174&click_sum=31b9e091&ga_order=most_relevant&ga_search_type=all&ga_view_type=gallery&ga_search_query=&ref=search_grid-1076529-1-52&pro=1&frs=1&sts=1\n",
      "https://www.etsy.com/listing/452639322/two-strand-twisted-knot-ring-silver-and?click_key=fc7079f3c44883dfb7b8dfa27f204f05ac576932%3A452639322&click_sum=6685100f&ga_order=most_relevant&ga_search_type=all&ga_view_type=gallery&ga_search_query=&ref=search_grid-1076529-1-53&frs=1&etp=1\n",
      "https://www.etsy.com/listing/507748539/silver-bangle-adjustable-hammered?click_key=456758719c8bc97136d529e14f66e263325a61e5%3A507748539&click_sum=b9214ab0&ga_order=most_relevant&ga_search_type=all&ga_view_type=gallery&ga_search_query=&ref=search_grid-1076529-1-54&etp=1&sts=1\n",
      "https://www.etsy.com/listing/186753146/planet-necklace-planets-jewelry-galaxy?click_key=81f15450687ec6e5dab721e50279012799f4ed25%3A186753146&click_sum=8b27dbf7&ga_order=most_relevant&ga_search_type=all&ga_view_type=gallery&ga_search_query=&ref=search_grid-1076529-1-55&pro=1&frs=1\n",
      "https://www.etsy.com/listing/269117878/engravable-gold-silver-or-rose-gold-bar?click_key=9d1b39aeba2c562ac03cf7201a036b585f692cb8%3A269117878&click_sum=a5f6374e&ga_order=most_relevant&ga_search_type=all&ga_view_type=gallery&ga_search_query=&ref=search_grid-1076529-1-56&pro=1&frs=1&sts=1\n",
      "https://www.etsy.com/listing/267384464/thin-dainty-plain-gold-chain-necklace?click_key=35bdd81307f96f9a4bb874c17e61795cbca3434a%3A267384464&click_sum=7af3c175&ga_order=most_relevant&ga_search_type=all&ga_view_type=gallery&ga_search_query=&ref=search_grid-1076529-1-57&etp=1&sts=1\n",
      "https://www.etsy.com/listing/526396971/beaded-silver-necklace-opalite-moonstone?click_key=3efebacb4f61acbe7721c6813fcc4bc43575b0d3%3A526396971&click_sum=4e2bfe27&ga_order=most_relevant&ga_search_type=all&ga_view_type=gallery&ga_search_query=&ref=search_grid-1076529-1-58&pro=1\n",
      "https://www.etsy.com/listing/237685641/dainty-personalized-bar-bracelet-for?click_key=a5da19533d8411a1b20f616bb1bf2fdfd0fbad82%3A237685641&click_sum=8542213f&ga_order=most_relevant&ga_search_type=all&ga_view_type=gallery&ga_search_query=&ref=search_grid-1076529-1-59&frs=1&etp=1&sts=1\n",
      "https://www.etsy.com/listing/190857435/shades-of-blue-ocean-earrings-tiny-blue?click_key=35559670be607f3a272a56b4075f352105ab825a%3A190857435&click_sum=bccdfe9c&ga_order=most_relevant&ga_search_type=all&ga_view_type=gallery&ga_search_query=&ref=search_grid-1076529-1-60&pro=1&sts=1\n",
      "https://www.etsy.com/listing/260846189/sterling-silver-sunflower-ring-flower?click_key=18e19300e689c773e439de53253f13c8ab54f2e1%3A260846189&click_sum=2a6faa66&ga_order=most_relevant&ga_search_type=all&ga_view_type=gallery&ga_search_query=&ref=search_grid-1076529-1-61&frs=1&etp=1&sts=1\n",
      "https://www.etsy.com/listing/169286585/i-love-you-more-bracelet-her-valentines?click_key=f1a718276dc9e2ceae2c37010ee6bd363ede7e21%3A169286585&click_sum=b71f53a3&ga_order=most_relevant&ga_search_type=all&ga_view_type=gallery&ga_search_query=&ref=search_grid-1076529-1-62&pro=1&sts=1\n",
      "https://www.etsy.com/listing/76688117/small-silver-earrings-sterling-silver?click_key=a877dcfeab0e77faee7e9c2d9abcc32d6603df23%3A76688117&click_sum=5ed23ecf&ga_order=most_relevant&ga_search_type=all&ga_view_type=gallery&ga_search_query=&ref=search_grid-1076529-1-63&frs=1&etp=1&sts=1\n",
      "https://www.etsy.com/listing/232980590/sterling-silver-origami-cat-necklace-fox?click_key=3b6608c9fcab9f7698cec90f6512c6996805dc6c%3A232980590&click_sum=3976b778&ga_order=most_relevant&ga_search_type=all&ga_view_type=gallery&ga_search_query=&ref=search_grid-1076529-1-64&etp=1\n",
      "etsy.com?ref=sc_gallery\n"
     ]
    }
   ],
   "source": [
    "# Find all 'a' tags with class 'listing-link'\n",
    "product_links = soup.find_all('a', class_='listing-link')\n",
    "\n",
    "# Extract the href attributes to get the URLs\n",
    "product_urls = [link['href'] for link in product_links]\n",
    "\n",
    "# Print the URLs\n",
    "for url in product_urls:\n",
    "    print(url)"
   ]
  },
  {
   "cell_type": "code",
   "execution_count": 98,
   "metadata": {},
   "outputs": [
    {
     "ename": "ValueError",
     "evalue": "All arrays must be of the same length",
     "output_type": "error",
     "traceback": [
      "\u001b[0;31m---------------------------------------------------------------------------\u001b[0m",
      "\u001b[0;31mValueError\u001b[0m                                Traceback (most recent call last)",
      "Cell \u001b[0;32mIn[98], line 15\u001b[0m\n\u001b[1;32m      4\u001b[0m data \u001b[38;5;241m=\u001b[39m {\n\u001b[1;32m      5\u001b[0m     \u001b[38;5;124m'\u001b[39m\u001b[38;5;124mName\u001b[39m\u001b[38;5;124m'\u001b[39m: product_names,\n\u001b[1;32m      6\u001b[0m     \u001b[38;5;124m'\u001b[39m\u001b[38;5;124mOriginal Price\u001b[39m\u001b[38;5;124m'\u001b[39m: original_prices,\n\u001b[0;32m   (...)\u001b[0m\n\u001b[1;32m     11\u001b[0m     \u001b[38;5;124m'\u001b[39m\u001b[38;5;124mURL\u001b[39m\u001b[38;5;124m'\u001b[39m: product_urls\n\u001b[1;32m     12\u001b[0m }\n\u001b[1;32m     14\u001b[0m \u001b[38;5;66;03m# Convert the data dictionary into a pandas DataFrame\u001b[39;00m\n\u001b[0;32m---> 15\u001b[0m df \u001b[38;5;241m=\u001b[39m pd\u001b[38;5;241m.\u001b[39mDataFrame(data)\n\u001b[1;32m     17\u001b[0m \u001b[38;5;66;03m# Display basic statistics of the dataset\u001b[39;00m\n\u001b[1;32m     18\u001b[0m \u001b[38;5;28mprint\u001b[39m(df\u001b[38;5;241m.\u001b[39mdescribe())\n",
      "File \u001b[0;32m~/anaconda3/lib/python3.11/site-packages/pandas/core/frame.py:709\u001b[0m, in \u001b[0;36mDataFrame.__init__\u001b[0;34m(self, data, index, columns, dtype, copy)\u001b[0m\n\u001b[1;32m    703\u001b[0m     mgr \u001b[38;5;241m=\u001b[39m \u001b[38;5;28mself\u001b[39m\u001b[38;5;241m.\u001b[39m_init_mgr(\n\u001b[1;32m    704\u001b[0m         data, axes\u001b[38;5;241m=\u001b[39m{\u001b[38;5;124m\"\u001b[39m\u001b[38;5;124mindex\u001b[39m\u001b[38;5;124m\"\u001b[39m: index, \u001b[38;5;124m\"\u001b[39m\u001b[38;5;124mcolumns\u001b[39m\u001b[38;5;124m\"\u001b[39m: columns}, dtype\u001b[38;5;241m=\u001b[39mdtype, copy\u001b[38;5;241m=\u001b[39mcopy\n\u001b[1;32m    705\u001b[0m     )\n\u001b[1;32m    707\u001b[0m \u001b[38;5;28;01melif\u001b[39;00m \u001b[38;5;28misinstance\u001b[39m(data, \u001b[38;5;28mdict\u001b[39m):\n\u001b[1;32m    708\u001b[0m     \u001b[38;5;66;03m# GH#38939 de facto copy defaults to False only in non-dict cases\u001b[39;00m\n\u001b[0;32m--> 709\u001b[0m     mgr \u001b[38;5;241m=\u001b[39m dict_to_mgr(data, index, columns, dtype\u001b[38;5;241m=\u001b[39mdtype, copy\u001b[38;5;241m=\u001b[39mcopy, typ\u001b[38;5;241m=\u001b[39mmanager)\n\u001b[1;32m    710\u001b[0m \u001b[38;5;28;01melif\u001b[39;00m \u001b[38;5;28misinstance\u001b[39m(data, ma\u001b[38;5;241m.\u001b[39mMaskedArray):\n\u001b[1;32m    711\u001b[0m     \u001b[38;5;28;01mfrom\u001b[39;00m \u001b[38;5;21;01mnumpy\u001b[39;00m\u001b[38;5;21;01m.\u001b[39;00m\u001b[38;5;21;01mma\u001b[39;00m \u001b[38;5;28;01mimport\u001b[39;00m mrecords\n",
      "File \u001b[0;32m~/anaconda3/lib/python3.11/site-packages/pandas/core/internals/construction.py:481\u001b[0m, in \u001b[0;36mdict_to_mgr\u001b[0;34m(data, index, columns, dtype, typ, copy)\u001b[0m\n\u001b[1;32m    477\u001b[0m     \u001b[38;5;28;01melse\u001b[39;00m:\n\u001b[1;32m    478\u001b[0m         \u001b[38;5;66;03m# dtype check to exclude e.g. range objects, scalars\u001b[39;00m\n\u001b[1;32m    479\u001b[0m         arrays \u001b[38;5;241m=\u001b[39m [x\u001b[38;5;241m.\u001b[39mcopy() \u001b[38;5;28;01mif\u001b[39;00m \u001b[38;5;28mhasattr\u001b[39m(x, \u001b[38;5;124m\"\u001b[39m\u001b[38;5;124mdtype\u001b[39m\u001b[38;5;124m\"\u001b[39m) \u001b[38;5;28;01melse\u001b[39;00m x \u001b[38;5;28;01mfor\u001b[39;00m x \u001b[38;5;129;01min\u001b[39;00m arrays]\n\u001b[0;32m--> 481\u001b[0m \u001b[38;5;28;01mreturn\u001b[39;00m arrays_to_mgr(arrays, columns, index, dtype\u001b[38;5;241m=\u001b[39mdtype, typ\u001b[38;5;241m=\u001b[39mtyp, consolidate\u001b[38;5;241m=\u001b[39mcopy)\n",
      "File \u001b[0;32m~/anaconda3/lib/python3.11/site-packages/pandas/core/internals/construction.py:115\u001b[0m, in \u001b[0;36marrays_to_mgr\u001b[0;34m(arrays, columns, index, dtype, verify_integrity, typ, consolidate)\u001b[0m\n\u001b[1;32m    112\u001b[0m \u001b[38;5;28;01mif\u001b[39;00m verify_integrity:\n\u001b[1;32m    113\u001b[0m     \u001b[38;5;66;03m# figure out the index, if necessary\u001b[39;00m\n\u001b[1;32m    114\u001b[0m     \u001b[38;5;28;01mif\u001b[39;00m index \u001b[38;5;129;01mis\u001b[39;00m \u001b[38;5;28;01mNone\u001b[39;00m:\n\u001b[0;32m--> 115\u001b[0m         index \u001b[38;5;241m=\u001b[39m _extract_index(arrays)\n\u001b[1;32m    116\u001b[0m     \u001b[38;5;28;01melse\u001b[39;00m:\n\u001b[1;32m    117\u001b[0m         index \u001b[38;5;241m=\u001b[39m ensure_index(index)\n",
      "File \u001b[0;32m~/anaconda3/lib/python3.11/site-packages/pandas/core/internals/construction.py:655\u001b[0m, in \u001b[0;36m_extract_index\u001b[0;34m(data)\u001b[0m\n\u001b[1;32m    653\u001b[0m lengths \u001b[38;5;241m=\u001b[39m \u001b[38;5;28mlist\u001b[39m(\u001b[38;5;28mset\u001b[39m(raw_lengths))\n\u001b[1;32m    654\u001b[0m \u001b[38;5;28;01mif\u001b[39;00m \u001b[38;5;28mlen\u001b[39m(lengths) \u001b[38;5;241m>\u001b[39m \u001b[38;5;241m1\u001b[39m:\n\u001b[0;32m--> 655\u001b[0m     \u001b[38;5;28;01mraise\u001b[39;00m \u001b[38;5;167;01mValueError\u001b[39;00m(\u001b[38;5;124m\"\u001b[39m\u001b[38;5;124mAll arrays must be of the same length\u001b[39m\u001b[38;5;124m\"\u001b[39m)\n\u001b[1;32m    657\u001b[0m \u001b[38;5;28;01mif\u001b[39;00m have_dicts:\n\u001b[1;32m    658\u001b[0m     \u001b[38;5;28;01mraise\u001b[39;00m \u001b[38;5;167;01mValueError\u001b[39;00m(\n\u001b[1;32m    659\u001b[0m         \u001b[38;5;124m\"\u001b[39m\u001b[38;5;124mMixing dicts with non-Series may lead to ambiguous ordering.\u001b[39m\u001b[38;5;124m\"\u001b[39m\n\u001b[1;32m    660\u001b[0m     )\n",
      "\u001b[0;31mValueError\u001b[0m: All arrays must be of the same length"
     ]
    }
   ],
   "source": [
    "import pandas as pd\n",
    "\n",
    "# Assuming you have these lists filled with your scraped data\n",
    "data = {\n",
    "    'Name': product_names,\n",
    "    'Original Price': original_prices,\n",
    "    'Current Price': current_prices,\n",
    "    'Rating': data_star_ratings,\n",
    "    'Review Count': review_counts,\n",
    "    'Discount': discounts,\n",
    "    'URL': product_urls\n",
    "}\n",
    "\n",
    "# Convert the data dictionary into a pandas DataFrame\n",
    "df = pd.DataFrame(data)\n",
    "\n",
    "# Display basic statistics of the dataset\n",
    "print(df.describe())\n",
    "\n",
    "# Save the dataset to a CSV file\n",
    "df.to_csv('/Users/aolyu/Documents/GitHub/qtm531spring2024/Assignment/midsemester_project/products.csv', index=False)\n"
   ]
  },
  {
   "cell_type": "code",
   "execution_count": 99,
   "metadata": {},
   "outputs": [],
   "source": [
    "# Find the maximum length among all lists\n",
    "max_length = max(len(product_names), len(original_prices), len(current_prices), len(data_star_ratings), len(review_counts), len(discounts), len(product_urls))\n",
    "\n",
    "# Function to pad lists\n",
    "def pad_list(lst, length, pad_value=None):\n",
    "    return lst + [pad_value] * (length - len(lst))\n",
    "\n",
    "# Pad all lists\n",
    "product_names = pad_list(product_names, max_length)\n",
    "original_prices = pad_list(original_prices, max_length)\n",
    "current_prices = pad_list(current_prices, max_length)\n",
    "data_star_ratings = pad_list(data_star_ratings, max_length)\n",
    "review_counts = pad_list(review_counts, max_length)\n",
    "discounts = pad_list(discounts, max_length)\n",
    "product_urls = pad_list(product_urls, max_length)\n",
    "\n",
    "# Now you can create the DataFrame\n",
    "data = {\n",
    "    'Name': product_names,\n",
    "    'Original Price': original_prices,\n",
    "    'Current Price': current_prices,\n",
    "    'Rating': data_star_ratings,\n",
    "    'Review Count': review_counts,\n",
    "    'Discount': discounts,\n",
    "    'URL': product_urls\n",
    "}\n",
    "df = pd.DataFrame(data)\n"
   ]
  }
 ],
 "metadata": {
  "kernelspec": {
   "display_name": "base",
   "language": "python",
   "name": "python3"
  },
  "language_info": {
   "codemirror_mode": {
    "name": "ipython",
    "version": 3
   },
   "file_extension": ".py",
   "mimetype": "text/x-python",
   "name": "python",
   "nbconvert_exporter": "python",
   "pygments_lexer": "ipython3",
   "version": "3.11.5"
  }
 },
 "nbformat": 4,
 "nbformat_minor": 2
}
