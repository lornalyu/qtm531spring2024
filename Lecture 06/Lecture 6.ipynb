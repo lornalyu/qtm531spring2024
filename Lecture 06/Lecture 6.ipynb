{
 "cells": [
  {
   "attachments": {},
   "cell_type": "markdown",
   "metadata": {},
   "source": [
    "# <span style=\"color:darkblue\"> Lecture 6 - Interacting and Extracting Web Data </span>\n",
    "\n",
    "<font size = \"5\">\n",
    "\n",
    "In the previous class we covered ...\n",
    "\n",
    "<font size = \"3\">\n",
    "\n",
    "\n",
    "- The basics of web scraping: APIs and Web Crawling\n",
    "- We covered basic concepts, benefits, limitations, and <br>\n",
    "ethical considerations\n",
    "- How to access an API, JSON format and processing\n",
    "- Tree-like struture of many web formats\n",
    "\n",
    "<font size = \"5\">\n",
    "\n",
    "In this class we will cover ...\n",
    "\n",
    "<font size = \"3\">\n",
    "\n",
    "- Web crawling\n",
    "- Basics of extracting data using Selenium"
   ]
  },
  {
   "cell_type": "markdown",
   "metadata": {},
   "source": [
    "# <span style=\"color:darkblue\"> I. Before we start </span>"
   ]
  },
  {
   "cell_type": "markdown",
   "metadata": {},
   "source": [
    "<font size = \"5\">\n",
    "\n",
    "Follow these instructions:\n",
    "\n",
    "<font size = \"3\">\n",
    "\n",
    "1. Install Google Chrome, if you haven't already. <br>\n",
    "We will connect Python to Chrome for web navigation.\n",
    "\n",
    "2. Install the following packages in Anaconda.<br>\n",
    "Open your operating system terminal and type the following:\n",
    "\n",
    "``` conda install conda-forge::html5lib  ``` <br>\n",
    "``` conda install conda-forge::selenium  ``` <br>\n",
    "``` conda install conda-forge::webdriver-manager  ```\n"
   ]
  },
  {
   "cell_type": "markdown",
   "metadata": {},
   "source": [
    "<font size = \"5\">\n",
    "\n",
    "Import packages for data processing"
   ]
  },
  {
   "cell_type": "code",
   "execution_count": 1,
   "metadata": {},
   "outputs": [],
   "source": [
    "# Manage datasets\n",
    "import pandas as pd\n",
    "\n",
    "# Work with time data\n",
    "import time "
   ]
  },
  {
   "cell_type": "markdown",
   "metadata": {},
   "source": [
    "<font size = \"5\">\n",
    "\n",
    "Import packages for HTML processing"
   ]
  },
  {
   "cell_type": "code",
   "execution_count": 2,
   "metadata": {},
   "outputs": [],
   "source": [
    "# Conduct HTTP requests\n",
    "import requests\n",
    "\n",
    "# Construct tree structure of HTML data\n",
    "import html5lib\n",
    "\n",
    "# Parse HTML data obtained from scraping\n",
    "from bs4 import BeautifulSoup as soup \n"
   ]
  },
  {
   "cell_type": "markdown",
   "metadata": {},
   "source": [
    "<font size = \"5\">\n",
    "\n",
    "Import packages for interactive <br>\n",
    "website navigation"
   ]
  },
  {
   "cell_type": "code",
   "execution_count": 3,
   "metadata": {},
   "outputs": [],
   "source": [
    "# Import webdriver for chrome\n",
    "from webdriver_manager.chrome import ChromeDriverManager\n",
    "\n",
    "# Automate navigating within browser (SELENIUM)\n",
    "#------ Key: Manage keys\n",
    "#------ Select: Obtain features from website\n",
    "#------ WebDriverWait: Add wait times implicitly\n",
    "#------ By: Use common information locator strategies\n",
    "#------ EC and Options: Browser configuration\n",
    "#------ remote.command: Check whether browser is active\n",
    "\n",
    "from selenium import webdriver #to automate the navigating within the browser\n",
    "from selenium.webdriver.common.keys    import Keys\n",
    "from selenium.webdriver.support.ui     import Select\n",
    "from selenium.webdriver.support.ui     import WebDriverWait \n",
    "from selenium.webdriver.common.by      import By\n",
    "from selenium.webdriver.support        import expected_conditions as EC\n",
    "from selenium.webdriver.chrome.options import Options #to use properties of the chrome webbrowser\n",
    "from selenium.webdriver.remote.command import Command # Use to check whether the web driver is active\n"
   ]
  },
  {
   "cell_type": "markdown",
   "metadata": {},
   "source": [
    "# <span style=\"color:darkblue\"> II. Running Chrome from Python </span>"
   ]
  },
  {
   "cell_type": "markdown",
   "metadata": {},
   "source": [
    "<font size = \"5\">\n",
    "\n",
    "We will be working with the Course Atlas\n",
    "\n",
    "<font size = \"3\">\n",
    "\n",
    "- This is where Emory courses are listed\n",
    "- It is an interactive website that displays information <br>\n",
    "as you click through <br>\n",
    "\n",
    "<img src=\"figures/screenshot_homepage.png\" alt=\"drawing\" width=\"400\"/>"
   ]
  },
  {
   "cell_type": "markdown",
   "metadata": {},
   "source": [
    "<font size = \"5\">\n",
    "\n",
    "Define URL"
   ]
  },
  {
   "cell_type": "code",
   "execution_count": 4,
   "metadata": {},
   "outputs": [],
   "source": [
    "base_url = 'https://atlas.emory.edu'"
   ]
  },
  {
   "cell_type": "markdown",
   "metadata": {},
   "source": [
    "<font size = \"5\">\n",
    "\n",
    "Initialize web driver\n",
    "\n",
    "<font size = \"3\">\n",
    "\n",
    "- You may have to grant permission to Python to access the browser <br>\n",
    "via a pop-up window\n",
    "- If you choose ```options.headless = False``` a new window will appear\n",
    "- If you choose ```options.headless = True``` all process will be hidden <br>\n",
    "(you may consider this option after you've got the example automated)"
   ]
  },
  {
   "cell_type": "code",
   "execution_count": 5,
   "metadata": {},
   "outputs": [],
   "source": [
    "options = Options()\n",
    "\n",
    "# True hides the navigating of the browser by the scraper,\n",
    "# False shows you the tab/window opening and stuff getting clicked\n",
    "options.headless = False \n",
    "\n",
    "driver = webdriver.Chrome(ChromeDriverManager().install(), options=options)"
   ]
  },
  {
   "cell_type": "markdown",
   "metadata": {},
   "source": [
    "<font size = \"5\">\n",
    "\n",
    "Open website\n",
    "\n",
    "<font size = \"3\">\n",
    "\n",
    "- For this to work the browser needs to be open"
   ]
  },
  {
   "cell_type": "code",
   "execution_count": 6,
   "metadata": {},
   "outputs": [],
   "source": [
    "driver.get(base_url)"
   ]
  },
  {
   "cell_type": "markdown",
   "metadata": {},
   "source": [
    "# <span style=\"color:darkblue\"> III. Diagnose elements from website </span>"
   ]
  },
  {
   "cell_type": "markdown",
   "metadata": {},
   "source": [
    "<font size = \"5\">\n",
    "\n",
    "To know what to scrape, go to Developer Mode <br>\n",
    "on your browser (preferrably in a different window than the one) <br>\n",
    "automated by Python"
   ]
  },
  {
   "cell_type": "markdown",
   "metadata": {},
   "source": [
    "<font size = \"5\">\n",
    "\n",
    "\n",
    "<img src=\"figures/screenshot_courseatlas_form.png\" alt=\"drawing\" width=\"200\"/>\n"
   ]
  },
  {
   "cell_type": "markdown",
   "metadata": {},
   "source": [
    "<font size = \"5\">\n",
    "\n",
    "If you get to Developer mode, you will find that <br>\n",
    "all the form fields have the tag ``` form-group ```\n",
    "\n",
    "<img src=\"figures/screenshot_courseatlas_developer.png\" alt=\"drawing\" width=\"500\"/>"
   ]
  },
  {
   "cell_type": "markdown",
   "metadata": {},
   "source": [
    "<font size = \"5\">\n",
    "\n",
    "We can use python to extract all elements with this tag"
   ]
  },
  {
   "cell_type": "code",
   "execution_count": 7,
   "metadata": {},
   "outputs": [
    {
     "data": {
      "text/plain": [
       "16"
      ]
     },
     "execution_count": 7,
     "metadata": {},
     "output_type": "execute_result"
    }
   ],
   "source": [
    "# Extract list of objects\n",
    "list_forms = driver.find_elements_by_class_name('form-control')\n",
    "\n",
    "# Count elements\n",
    "len(list_forms)\n"
   ]
  },
  {
   "cell_type": "markdown",
   "metadata": {},
   "source": [
    "<font size = \"5\">\n",
    "\n",
    "Open a single element"
   ]
  },
  {
   "cell_type": "code",
   "execution_count": 8,
   "metadata": {},
   "outputs": [
    {
     "data": {
      "text/plain": [
       "'Title, Subject, Instructor, or Keyword'"
      ]
     },
     "execution_count": 8,
     "metadata": {},
     "output_type": "execute_result"
    }
   ],
   "source": [
    "list_forms[0].get_attribute(\"placeholder\")"
   ]
  },
  {
   "cell_type": "markdown",
   "metadata": {},
   "source": []
  }
 ],
 "metadata": {
  "kernelspec": {
   "display_name": "base",
   "language": "python",
   "name": "python3"
  },
  "language_info": {
   "codemirror_mode": {
    "name": "ipython",
    "version": 3
   },
   "file_extension": ".py",
   "mimetype": "text/x-python",
   "name": "python",
   "nbconvert_exporter": "python",
   "pygments_lexer": "ipython3",
   "version": "3.9.13"
  },
  "orig_nbformat": 4,
  "vscode": {
   "interpreter": {
    "hash": "45fc1f684f6f416f40889115beff3ddf69879b64cf4bfee48cb72a61e9d15d1a"
   }
  }
 },
 "nbformat": 4,
 "nbformat_minor": 2
}
